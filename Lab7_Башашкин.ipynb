{
  "nbformat": 4,
  "nbformat_minor": 0,
  "metadata": {
    "colab": {
      "provenance": [],
      "authorship_tag": "ABX9TyNpdOP11nEr5FnUBeyZ0GWU",
      "include_colab_link": true
    },
    "kernelspec": {
      "name": "python3",
      "display_name": "Python 3"
    },
    "language_info": {
      "name": "python"
    }
  },
  "cells": [
    {
      "cell_type": "markdown",
      "metadata": {
        "id": "view-in-github",
        "colab_type": "text"
      },
      "source": [
        "<a href=\"https://colab.research.google.com/github/Bashashkin/Lab-1/blob/main/Lab7_%D0%91%D0%B0%D1%88%D0%B0%D1%88%D0%BA%D0%B8%D0%BD.ipynb\" target=\"_parent\"><img src=\"https://colab.research.google.com/assets/colab-badge.svg\" alt=\"Open In Colab\"/></a>"
      ]
    },
    {
      "cell_type": "markdown",
      "source": [
        "#7.2.1"
      ],
      "metadata": {
        "id": "xqtYO1FEYdpg"
      }
    },
    {
      "cell_type": "code",
      "execution_count": null,
      "metadata": {
        "colab": {
          "base_uri": "https://localhost:8080/"
        },
        "id": "oR05XmXUSR2c",
        "outputId": "a556592e-8573-403b-e835-9327fc220027"
      },
      "outputs": [
        {
          "output_type": "execute_result",
          "data": {
            "text/plain": [
              "1"
            ]
          },
          "metadata": {},
          "execution_count": 1
        }
      ],
      "source": [
        "# Программирование на языке высокого уровня (Python).\n",
        "# https://www.yuripetrov.ru/edu/python\n",
        "# Задание task_07_02_01.\n",
        "#\n",
        "# Выполнил: Башашкин А.М\n",
        "# Группа: АДЭУ-221\n",
        "# E-mail: alesha_2010@list.ru\n",
        "\n",
        "\n",
        "def sum_of_digits(n):\n",
        "    \"\"\"Вернуть сумму цифр меньших 5 для положительного целого числа n.\n",
        "    Если таких цифр нет, вернуть 0.\"\"\"\n",
        "    c = 0\n",
        "    while n > 0:\n",
        "        digit = n % 10      #не то действие деления\n",
        "        if digit < 5:\n",
        "            c = c + digit   #прибавлялось не то число\n",
        "        n //= 10\n",
        "    return c                #возвращалась не та переменная\n",
        "\n",
        "sum_of_digits(16)"
      ]
    },
    {
      "cell_type": "code",
      "source": [
        "help(sum_of_digits)"
      ],
      "metadata": {
        "colab": {
          "base_uri": "https://localhost:8080/"
        },
        "id": "qdarrJzEURdm",
        "outputId": "9fa57a68-352f-4b95-f1a1-74d25e9bcca5"
      },
      "execution_count": null,
      "outputs": [
        {
          "output_type": "stream",
          "name": "stdout",
          "text": [
            "Help on function sum_of_digits in module __main__:\n",
            "\n",
            "sum_of_digits(n)\n",
            "    Вернуть сумму цифр меньших 5 для положительного целого числа n.\n",
            "    Если таких цифр нет, вернуть 0.\n",
            "\n"
          ]
        }
      ]
    },
    {
      "cell_type": "markdown",
      "source": [
        "# 7.2.2"
      ],
      "metadata": {
        "id": "Fh8t6MzvYlr-"
      }
    },
    {
      "cell_type": "code",
      "source": [
        "def primes(a, b):\n",
        "    \"\"\"Вернуть список простых чисел на отрезке от 'a' до 'b'.\"\"\"\n",
        "    res = []\n",
        "    c = 0\n",
        "    for i in range(a, b+1):  #прибавить к b единицу, чтобы b включалось\n",
        "        for j in range(i+1):  #прибавить 1, чтобы прошли все элементы цикла\n",
        "            if i % (j + 1) == 0:\n",
        "                c += 1\n",
        "        if c == 2:    #лишний таб\n",
        "                res.append(i)\n",
        "        else:   #вернуть c\n",
        "          c = 0\n",
        "    return res\n",
        "\n",
        "primes(1,5)"
      ],
      "metadata": {
        "colab": {
          "base_uri": "https://localhost:8080/"
        },
        "id": "rQN_CxCSTwx_",
        "outputId": "88345e76-d5f9-4ee7-c91d-04becd3db206"
      },
      "execution_count": null,
      "outputs": [
        {
          "output_type": "execute_result",
          "data": {
            "text/plain": [
              "[2, 5]"
            ]
          },
          "metadata": {},
          "execution_count": 5
        }
      ]
    },
    {
      "cell_type": "code",
      "source": [
        "help(primes)"
      ],
      "metadata": {
        "colab": {
          "base_uri": "https://localhost:8080/"
        },
        "id": "Mz72GnHAUtsm",
        "outputId": "66b12eaa-8a74-4a00-f598-11eaf84bb06a"
      },
      "execution_count": null,
      "outputs": [
        {
          "output_type": "stream",
          "name": "stdout",
          "text": [
            "Help on function primes in module __main__:\n",
            "\n",
            "primes(a, b)\n",
            "    Вернуть список простых чисел на отрезке от 'a' до 'b'.\n",
            "\n"
          ]
        }
      ]
    },
    {
      "cell_type": "markdown",
      "source": [
        "#7.2.3"
      ],
      "metadata": {
        "id": "dY27DSZ2YoG3"
      }
    },
    {
      "cell_type": "code",
      "source": [
        "def first_vacant_row(seats):\n",
        "    \"\"\"Вернуть первый ряд, в котором имеется больше всего\n",
        "    свободных мест и их количество.\n",
        "\n",
        "    Возвращаемая нумерация рядов с 1. Если свободных мест нет, вернуть 0, 0.\n",
        "\n",
        "    Параметры:\n",
        "        - seats (list of list): информация о проданных билетах\n",
        "                                (1 - продано, 0 - нет).\n",
        "\n",
        "    Результат:\n",
        "        - tuple (ряд, количество мест).\n",
        "    \"\"\"\n",
        "    max_count = 0\n",
        "    max_row = 0\n",
        "    for row_index, row in enumerate(seats, start=1): # пропущено start=1\n",
        "        available_seats_count = row.count(0)  # 0 - пусто\n",
        "        if available_seats_count > max_count: # знак - строго больше\n",
        "            max_row = row_index\n",
        "            max_count = available_seats_count\n",
        "\n",
        "    return max_row, max_count\n",
        "\n",
        "import random\n",
        "\n",
        "random.seed(50)\n",
        "\n",
        "ROWS_MAX = 10\n",
        "SEATS_MAX = 5\n",
        "\n",
        "seats = [[random.randint(0, 1) for seat in range(SEATS_MAX)]\n",
        "                                for row in range(ROWS_MAX)]\n",
        "\n",
        "for seat in seats:\n",
        "    print(seat)\n",
        "\n",
        "print(first_vacant_row(seats))\n"
      ],
      "metadata": {
        "colab": {
          "base_uri": "https://localhost:8080/"
        },
        "id": "tMrgfyBoU7eS",
        "outputId": "208f862b-daf8-4dfe-cf0a-a37a4e4f9bf1"
      },
      "execution_count": null,
      "outputs": [
        {
          "output_type": "stream",
          "name": "stdout",
          "text": [
            "[1, 1, 1, 0, 1]\n",
            "[1, 0, 1, 0, 0]\n",
            "[0, 1, 0, 1, 1]\n",
            "[0, 0, 0, 1, 1]\n",
            "[0, 0, 1, 1, 0]\n",
            "[0, 1, 1, 1, 0]\n",
            "[0, 1, 1, 1, 0]\n",
            "[1, 0, 0, 1, 0]\n",
            "[1, 1, 0, 1, 1]\n",
            "[0, 1, 0, 0, 1]\n",
            "(2, 3)\n"
          ]
        }
      ]
    },
    {
      "cell_type": "code",
      "source": [
        "help(first_vacant_row)"
      ],
      "metadata": {
        "colab": {
          "base_uri": "https://localhost:8080/"
        },
        "id": "QbVskV5iYSpc",
        "outputId": "ee57b9c3-969b-40f0-d33b-8e05b17b57d6"
      },
      "execution_count": null,
      "outputs": [
        {
          "output_type": "stream",
          "name": "stdout",
          "text": [
            "Help on function first_vacant_row in module __main__:\n",
            "\n",
            "first_vacant_row(seats)\n",
            "    Вернуть первый ряд, в котором имеется больше всего\n",
            "    свободных мест и их количество.\n",
            "    \n",
            "    Возвращаемая нумерация рядов с 1. Если свободных мест нет, вернуть 0, 0.\n",
            "    \n",
            "    Параметры:\n",
            "        - seats (list of list): информация о проданных билетах\n",
            "                                (1 - продано, 0 - нет).\n",
            "    \n",
            "    Результат:\n",
            "        - tuple (ряд, количество мест).\n",
            "\n"
          ]
        }
      ]
    },
    {
      "cell_type": "markdown",
      "source": [
        "#7.2.4"
      ],
      "metadata": {
        "id": "5pkCpxc3Yr0x"
      }
    },
    {
      "cell_type": "code",
      "source": [
        "def min_pair(nums):\n",
        "    \"\"\"Вернуть минимальную сумму соседних 2-х чисел в списке 'nums'.\"\"\"\n",
        "    min1 = nums[0] * nums[1] # неверно задано имя\n",
        "    for i in range(-1, len(nums)): # неверно задан промежуток\n",
        "        min1 = min(nums[i-1] + nums[i], min1)\n",
        "\n",
        "    return min1\n",
        "\n",
        "import random\n",
        "\n",
        "random.seed(50)\n",
        "\n",
        "N_MAX = 10\n",
        "RANGE_MIN = 1\n",
        "RANGE_MAX = 100\n",
        "nums = random.sample(range(RANGE_MIN, RANGE_MAX), N_MAX)\n",
        "\n",
        "print(nums)\n",
        "\n",
        "print(min_pair(nums))\n",
        "\n"
      ],
      "metadata": {
        "colab": {
          "base_uri": "https://localhost:8080/"
        },
        "id": "Ca-QnV9xWumu",
        "outputId": "4cb36697-e177-4929-e130-72210b860199"
      },
      "execution_count": null,
      "outputs": [
        {
          "output_type": "stream",
          "name": "stdout",
          "text": [
            "[64, 35, 47, 82, 32, 89, 61, 99, 43, 11]\n",
            "54\n"
          ]
        }
      ]
    },
    {
      "cell_type": "code",
      "source": [
        "help(min_pair)"
      ],
      "metadata": {
        "colab": {
          "base_uri": "https://localhost:8080/"
        },
        "id": "AQ1lKL7iYXpb",
        "outputId": "bc828857-0e7a-4033-9454-4dc3eff43386"
      },
      "execution_count": null,
      "outputs": [
        {
          "output_type": "stream",
          "name": "stdout",
          "text": [
            "Help on function min_pair in module __main__:\n",
            "\n",
            "min_pair(nums)\n",
            "    Вернуть минимальную сумму соседних 2-х чисел в списке 'nums'.\n",
            "\n"
          ]
        }
      ]
    },
    {
      "cell_type": "markdown",
      "source": [
        "# 7.2.5"
      ],
      "metadata": {
        "id": "cfc_YUA1YuuH"
      }
    },
    {
      "cell_type": "code",
      "source": [
        "def non_negatives(nums):\n",
        "    \"\"\"Удалить из списка чисел 'nums' отрицательные элементы и вернуть\n",
        "    измененный список.\"\"\"\n",
        "    for i in reversed(range(len(nums))): # ставим список в обратный порядок, чтобы он изменялся только в конце                                     \n",
        "        if nums[i] < 0:\n",
        "            del nums[i]\n",
        "\n",
        "    return nums\n",
        "\n",
        "import random\n",
        "\n",
        "n = 10\n",
        "nums = [round(random.uniform(-10, 10), 2) for i in range(n)]\n",
        "print(nums)\n",
        "\n",
        "non_negatives(nums)\n",
        "print(nums)\n",
        "\n"
      ],
      "metadata": {
        "colab": {
          "base_uri": "https://localhost:8080/"
        },
        "id": "4DxuT_BIYaTW",
        "outputId": "29a0f2a9-3fc2-4986-85cc-b01d152ed37a"
      },
      "execution_count": 26,
      "outputs": [
        {
          "output_type": "stream",
          "name": "stdout",
          "text": [
            "[-1.58, 1.55, 5.36, -2.18, -8.22, -7.58, -8.97, 5.58, -8.65, 3.36]\n",
            "[1.55, 5.36, 5.58, 3.36]\n"
          ]
        }
      ]
    },
    {
      "cell_type": "code",
      "source": [
        "help(non_negatives)"
      ],
      "metadata": {
        "colab": {
          "base_uri": "https://localhost:8080/"
        },
        "id": "kLlqEIIedrCm",
        "outputId": "47d3ca40-0025-4d33-d046-fc239f1da566"
      },
      "execution_count": 27,
      "outputs": [
        {
          "output_type": "stream",
          "name": "stdout",
          "text": [
            "Help on function non_negatives in module __main__:\n",
            "\n",
            "non_negatives(nums)\n",
            "    Удалить из списка чисел 'nums' отрицательные элементы и вернуть\n",
            "    измененный список.\n",
            "\n"
          ]
        }
      ]
    },
    {
      "cell_type": "markdown",
      "source": [
        "# 7.2.6"
      ],
      "metadata": {
        "id": "kGVYugCzdqbR"
      }
    },
    {
      "cell_type": "code",
      "source": [
        "def unemployment_rate(unemployed, employed):\n",
        "    \"\"\"Вернуть уровень безработицы (УБ) в долях 1.\n",
        "\n",
        "       Расчет по формуле: УБ = Безработные / (Занятые + Безработные).\n",
        "    \"\"\"\n",
        "    if unemployed + employed > 0: \n",
        "      return unemployed / (unemployed + employed)\n",
        "    elif unemployed + employed == 0: \n",
        "      raise ZeroDivisionError('Невозможно определить УБ')\n",
        "    elif (unemployed < 0) or (employed < 0): \n",
        "      raise ValueError('Число не может быть отрицательным')\n",
        "    \n",
        "try:\n",
        "  unemployed = int(input(\"Введите кол-во безработных (чел.): \"))\n",
        "  employed = int(input(\"Введите кол-во занятых (чел.): \"))\n",
        "  rate = unemployment_rate(unemployed, employed)\n",
        "  print(\"Уровень безработицы = {:.1%}\".format(rate))\n",
        "except ZeroDivisionError as err:\n",
        "  print('Ошибка: деление на ноль')\n",
        "except ValueError as err:\n",
        "  print('Ошибка: число не может быть отрицательным')"
      ],
      "metadata": {
        "colab": {
          "base_uri": "https://localhost:8080/"
        },
        "id": "e-oAqqcEdvpt",
        "outputId": "326c5920-b99e-4ffe-813a-48ce74bf6315"
      },
      "execution_count": 43,
      "outputs": [
        {
          "output_type": "stream",
          "name": "stdout",
          "text": [
            "Введите кол-во безработных (чел.): 10\n",
            "Введите кол-во занятых (чел.): 10\n",
            "Уровень безработицы = 50.0%\n"
          ]
        }
      ]
    },
    {
      "cell_type": "code",
      "source": [
        "help(unemployment_rate)"
      ],
      "metadata": {
        "colab": {
          "base_uri": "https://localhost:8080/"
        },
        "id": "qr6QFycfg60J",
        "outputId": "d56db57b-f778-42f3-bffe-d225ec6bef7c"
      },
      "execution_count": 49,
      "outputs": [
        {
          "output_type": "stream",
          "name": "stdout",
          "text": [
            "Help on function unemployment_rate in module __main__:\n",
            "\n",
            "unemployment_rate(unemployed, employed)\n",
            "    Вернуть уровень безработицы (УБ) в долях 1.\n",
            "    \n",
            "    Расчет по формуле: УБ = Безработные / (Занятые + Безработные).\n",
            "\n"
          ]
        }
      ]
    },
    {
      "cell_type": "markdown",
      "source": [
        "# 7.2.7"
      ],
      "metadata": {
        "id": "f2xHowJTgpq_"
      }
    },
    {
      "cell_type": "code",
      "source": [
        "def power(x, y=2):\n",
        "    \"\"\"Вернуть x^y.\"\"\"\n",
        "    if y == 0:\n",
        "        return 1\n",
        "    else:\n",
        "        return x * power(x, y - 1)\n",
        "\n",
        "try:\n",
        "  x = int(input(\"x=\"))\n",
        "  y = int(input(\"y=\"))\n",
        "  print(power(x, y))\n",
        "except ValueError as err:\n",
        "    print(\"Ошибка: Проверьте тип данных - должны быть целые числа.\")"
      ],
      "metadata": {
        "colab": {
          "base_uri": "https://localhost:8080/"
        },
        "id": "MqM5Q9JHgmkn",
        "outputId": "e9f95a67-627b-4cb7-91c8-c9de6085942b"
      },
      "execution_count": 58,
      "outputs": [
        {
          "output_type": "stream",
          "name": "stdout",
          "text": [
            "x=10\n",
            "y=2\n",
            "100\n"
          ]
        }
      ]
    },
    {
      "cell_type": "code",
      "source": [
        "help(power)"
      ],
      "metadata": {
        "colab": {
          "base_uri": "https://localhost:8080/"
        },
        "id": "pnQnqjB7jamK",
        "outputId": "57dac142-fcd9-4218-b041-23406dfb0b64"
      },
      "execution_count": 59,
      "outputs": [
        {
          "output_type": "stream",
          "name": "stdout",
          "text": [
            "Help on function power in module __main__:\n",
            "\n",
            "power(x, y=2)\n",
            "    Вернуть x^y.\n",
            "\n"
          ]
        }
      ]
    },
    {
      "cell_type": "markdown",
      "source": [
        "# 7.2.8"
      ],
      "metadata": {
        "id": "UhyE4eKeibAo"
      }
    },
    {
      "cell_type": "code",
      "source": [
        "# Дан список ФИО. Найти наиболее часто встречаемое отчество.\n",
        "# Если отчества нет, человек не учитывается в подсчете.\n",
        "\n",
        "try:\n",
        "  n = int(input(\"Введите кол-во человек: \"))\n",
        "  middle_names = {}\n",
        "  for i in range(n):\n",
        "      fio = input(\"Введите ФИО через пробел: \").split()\n",
        "      if len(fio) == 3:\n",
        "        middle_name = fio[2]\n",
        "        middle_names[middle_name] = middle_names.get(middle_name, 0) + 1\n",
        "      else:\n",
        "        n -= 1\n",
        "except ValueError:\n",
        "  print('Неверный ввод данных')\n",
        "\n",
        "print(sorted(middle_names.items(), key=lambda item: item[1])[-1][0])\n",
        "print(\"В расчете участвовало человек:\", n)\n"
      ],
      "metadata": {
        "colab": {
          "base_uri": "https://localhost:8080/"
        },
        "id": "5kPbpeYbiagB",
        "outputId": "3ae3ebe4-d3ab-4e5e-a07c-c4cd7758bd4c"
      },
      "execution_count": 71,
      "outputs": [
        {
          "output_type": "stream",
          "name": "stdout",
          "text": [
            "Введите кол-во человек: 3\n",
            "Введите ФИО через пробел: а бв \n",
            "Введите ФИО через пробел: а б в\n",
            "Введите ФИО через пробел: а б в\n",
            "в\n",
            "В расчете участвовало человек: 2\n"
          ]
        }
      ]
    },
    {
      "cell_type": "markdown",
      "source": [
        "# 7.2.9"
      ],
      "metadata": {
        "id": "HKx7SVmvlQXu"
      }
    },
    {
      "cell_type": "code",
      "source": [
        "def f(x):\n",
        "    \"\"\"Вернуть значение функции.\n",
        "\n",
        "    Функция не обрабатывает исключения.\n",
        "    \"\"\"\n",
        "    if x == -2:\n",
        "      f = None\n",
        "    else:\n",
        "      return x**2 / (x + 2) - 3\n",
        "\n",
        "try:\n",
        "  k = int(input(\"Введите границу интервала [-k; k]: \"))\n",
        "  h = float(input(\"Введите шаг табуляции: \"))\n",
        "except Exception as err:\n",
        "  print('Ошибка', err)\n",
        "  print('Тип', type(err))\n",
        "  print('Описание', err)\n",
        "\n",
        "x = -k\n",
        "print(\"{:>10} {:>10}\".format(\"x\", \"f(x)\"))\n",
        "while x <= k:\n",
        "    # Если во время вычисления функции возникнет ошибка,\n",
        "    # при выводе необходимо указать прочерк \"-\"\n",
        "    # Данный случай должен обрабатывать второй вложенный блок try\n",
        "    try:     \n",
        "      print(\"{:10.2f} {:10.2f}\".format(x, f(x)))\n",
        "    except:\n",
        "      print(\"{:10.2f} {:>10}\".format(x, '-'))\n",
        "\n",
        "    x += h\n",
        "\n",
        " \n",
        "# --------------\n",
        "# Пример вывода:\n",
        "#\n",
        "# Введите границу интервала [-k; k]: 5\n",
        "# Введите шаг табуляции: 0.5\n",
        "#          x       f(x)\n",
        "#      -5.00     -11.33\n",
        "#      -4.50     -11.10\n",
        "#      -4.00     -11.00\n",
        "#      -3.50     -11.17\n",
        "#      -3.00     -12.00\n",
        "#      -2.50     -15.50\n",
        "#      -2.00          -\n",
        "#      -1.50       1.50\n",
        "#      -1.00      -2.00\n",
        "#      -0.50      -2.83\n",
        "#       0.00      -3.00\n",
        "#       0.50      -2.90\n",
        "#       1.00      -2.67\n",
        "#       1.50      -2.36\n",
        "#       2.00      -2.00\n",
        "#       2.50      -1.61\n",
        "#       3.00      -1.20\n",
        "#       3.50      -0.77\n",
        "#       4.00      -0.33\n",
        "#       4.50       0.12\n",
        "#       5.00       0.57\n"
      ],
      "metadata": {
        "colab": {
          "base_uri": "https://localhost:8080/"
        },
        "id": "tqTcg5fnlQKo",
        "outputId": "22d296c5-733a-46b3-c407-58435e99d559"
      },
      "execution_count": 74,
      "outputs": [
        {
          "output_type": "stream",
          "name": "stdout",
          "text": [
            "Введите границу интервала [-k; k]: 5\n",
            "Введите шаг табуляции: 0.5\n",
            "         x       f(x)\n",
            "     -5.00     -11.33\n",
            "     -4.50     -11.10\n",
            "     -4.00     -11.00\n",
            "     -3.50     -11.17\n",
            "     -3.00     -12.00\n",
            "     -2.50     -15.50\n",
            "     -2.00          -\n",
            "     -1.50       1.50\n",
            "     -1.00      -2.00\n",
            "     -0.50      -2.83\n",
            "      0.00      -3.00\n",
            "      0.50      -2.90\n",
            "      1.00      -2.67\n",
            "      1.50      -2.36\n",
            "      2.00      -2.00\n",
            "      2.50      -1.61\n",
            "      3.00      -1.20\n",
            "      3.50      -0.77\n",
            "      4.00      -0.33\n",
            "      4.50       0.12\n",
            "      5.00       0.57\n"
          ]
        }
      ]
    }
  ]
}