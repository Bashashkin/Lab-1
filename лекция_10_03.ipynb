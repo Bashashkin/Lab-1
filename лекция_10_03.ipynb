{
  "nbformat": 4,
  "nbformat_minor": 0,
  "metadata": {
    "colab": {
      "provenance": [],
      "authorship_tag": "ABX9TyMfNqIbigq5yWeg9lduSeEn",
      "include_colab_link": true
    },
    "kernelspec": {
      "name": "python3",
      "display_name": "Python 3"
    },
    "language_info": {
      "name": "python"
    }
  },
  "cells": [
    {
      "cell_type": "markdown",
      "metadata": {
        "id": "view-in-github",
        "colab_type": "text"
      },
      "source": [
        "<a href=\"https://colab.research.google.com/github/Bashashkin/Lab-1/blob/main/%D0%BB%D0%B5%D0%BA%D1%86%D0%B8%D1%8F_10_03.ipynb\" target=\"_parent\"><img src=\"https://colab.research.google.com/assets/colab-badge.svg\" alt=\"Open In Colab\"/></a>"
      ]
    },
    {
      "cell_type": "markdown",
      "source": [
        "# Конструктор класса-метод __init__()"
      ],
      "metadata": {
        "id": "Ga8JLaTWbse7"
      }
    },
    {
      "cell_type": "code",
      "execution_count": null,
      "metadata": {
        "id": "0ImGeg_6bnV6"
      },
      "outputs": [],
      "source": [
        "class Person:\n",
        "  def setName(self, n, s):\n",
        "    self.name = n\n",
        "    self.surname = s"
      ]
    },
    {
      "cell_type": "code",
      "source": [
        "p1 = Person()\n",
        "p1.setName('Bill', \"Ross\")\n",
        "p1.name, p1.surname"
      ],
      "metadata": {
        "colab": {
          "base_uri": "https://localhost:8080/"
        },
        "id": "w4U5rTQ-fYZA",
        "outputId": "002d7b16-2f7b-4d36-f824-9502c582b6f3"
      },
      "execution_count": null,
      "outputs": [
        {
          "output_type": "execute_result",
          "data": {
            "text/plain": [
              "('Bill', 'Ross')"
            ]
          },
          "metadata": {},
          "execution_count": 2
        }
      ]
    },
    {
      "cell_type": "code",
      "source": [
        "class Person2:\n",
        "  def __init__(self, n, s):\n",
        "    self.name = n\n",
        "    self.surname = s"
      ],
      "metadata": {
        "id": "K_uNqug8fx3E"
      },
      "execution_count": null,
      "outputs": []
    },
    {
      "cell_type": "code",
      "source": [
        "p1 = Person2('Sam', 'Baker')\n",
        "print(p1.name, p1.surname)"
      ],
      "metadata": {
        "colab": {
          "base_uri": "https://localhost:8080/"
        },
        "id": "3NUDmVA_f5UY",
        "outputId": "eadbc4d8-d393-4d82-d7c9-a8a3a6f72f33"
      },
      "execution_count": null,
      "outputs": [
        {
          "output_type": "stream",
          "name": "stdout",
          "text": [
            "Sam Baker\n"
          ]
        }
      ]
    },
    {
      "cell_type": "code",
      "source": [
        "class Rectangle:\n",
        "  def __init__(self, w = 0.5, h = 1):\n",
        "    self.width = w\n",
        "    self.height = h\n",
        "  def square(self):\n",
        "    return self.width * self.height "
      ],
      "metadata": {
        "id": "iKD2Y-6ZgOKF"
      },
      "execution_count": null,
      "outputs": []
    },
    {
      "cell_type": "code",
      "source": [
        "rec1 = Rectangle(5, 2)\n",
        "rec2 = Rectangle()\n",
        "rec3 = Rectangle(3)\n",
        "rec4 = Rectangle(h = 4)"
      ],
      "metadata": {
        "id": "hNkIIg5JgjPo"
      },
      "execution_count": null,
      "outputs": []
    },
    {
      "cell_type": "code",
      "source": [
        "class Person3:\n",
        "  def __init__(self, n, s, q = 1):\n",
        "    self.name = n\n",
        "    self.surname = s\n",
        "    self.skill = q\n",
        "  def __del__(self):\n",
        "    print('До свидания, мистер', self.name, self.surname)\n",
        "  def info(self):\n",
        "    return \"{0} {1}, {2}\".format(self.name, self.surname, self.skill)\n",
        "worker = Person3('И', 'Котов', 3)\n",
        "helper = Person3('Д', 'Мышев', 1)\n",
        "maker = Person3('О', 'Рисов', 2)\n",
        "print(worker.info())\n",
        "print(worker.info())\n",
        "print(worker.info())\n",
        "del helper\n",
        "print(\"Конец программы\")\n",
        "input()"
      ],
      "metadata": {
        "colab": {
          "base_uri": "https://localhost:8080/",
          "height": 174
        },
        "id": "aEMz8fI9g6L_",
        "outputId": "f26fa579-57cc-4caa-f8b6-6826331974d0"
      },
      "execution_count": null,
      "outputs": [
        {
          "name": "stdout",
          "output_type": "stream",
          "text": [
            "И Котов, 3\n",
            "И Котов, 3\n",
            "И Котов, 3\n",
            "До свидания, мистер Д Мышев\n",
            "Конец программы\n",
            "До свидания, мистер И Котов\n",
            "До свидания, мистер О Рисов\n",
            "\n"
          ]
        },
        {
          "output_type": "execute_result",
          "data": {
            "text/plain": [
              "''"
            ],
            "application/vnd.google.colaboratory.intrinsic+json": {
              "type": "string"
            }
          },
          "metadata": {},
          "execution_count": 15
        }
      ]
    },
    {
      "cell_type": "markdown",
      "source": [
        "# Индивидуальное задание"
      ],
      "metadata": {
        "id": "b3uUmzjojY8D"
      }
    },
    {
      "cell_type": "code",
      "source": [
        "\n"
      ],
      "metadata": {
        "id": "Qmpc1XWCjBs-"
      },
      "execution_count": null,
      "outputs": []
    },
    {
      "cell_type": "markdown",
      "source": [
        "# Наследование"
      ],
      "metadata": {
        "id": "xmjkvAIpjc1q"
      }
    },
    {
      "cell_type": "code",
      "source": [
        "class Table:\n",
        "  def __init__(self, l, w, h):\n",
        "    self.lenght = l\n",
        "    self.width = w\n",
        "    self.height = h\n",
        "\n",
        "class KitchenTable(Table): # наследованный класс\n",
        "  def setPlaces(self, p): # без инициализации\n",
        "    self.places = p\n",
        "class DeskTable(Table): \n",
        "  def square(self):\n",
        "    return self.width * self.lenght"
      ],
      "metadata": {
        "id": "vlTKvyRUjouZ"
      },
      "execution_count": null,
      "outputs": []
    },
    {
      "cell_type": "code",
      "source": [
        "t1 = KitchenTable(2, 2, 0.7)"
      ],
      "metadata": {
        "id": "GEPYeAsckkyL"
      },
      "execution_count": null,
      "outputs": []
    },
    {
      "cell_type": "code",
      "source": [
        "class ComputerTable(DeskTable):\n",
        "  def square(self, e):\n",
        "    return self.width * self.lenght - e"
      ],
      "metadata": {
        "id": "Z50SDaUOlNu2"
      },
      "execution_count": null,
      "outputs": []
    },
    {
      "cell_type": "code",
      "source": [
        "# с использованием наследования\n",
        "class ComputerTable(DeskTable):\n",
        "  def square(self, e):\n",
        "    return DeskTable.square(self) - e"
      ],
      "metadata": {
        "id": "yywxuC4ZliTe"
      },
      "execution_count": null,
      "outputs": []
    },
    {
      "cell_type": "code",
      "source": [
        "class KitchenTable(Table):\n",
        "  def __init__(self, l, w, h, p):\n",
        "    self.lenght = l\n",
        "    self.width = w\n",
        "    self.height = h\n",
        "    self.places = p"
      ],
      "metadata": {
        "id": "NAqKDtfBmVLO"
      },
      "execution_count": null,
      "outputs": []
    },
    {
      "cell_type": "code",
      "source": [
        "# лучший способ переопределить данные\n",
        "class KitchenTable(Table):\n",
        "  def __init__(self, l, w, h, p):\n",
        "    Table.__init__(self, l, w, h)\n",
        "    self.places = p"
      ],
      "metadata": {
        "id": "kvu0CjArmc0H"
      },
      "execution_count": null,
      "outputs": []
    },
    {
      "cell_type": "code",
      "source": [
        "tk = KitchenTable(2, 1.5, 0.7, 10)\n",
        "print(tk.places)\n",
        "print(tk.width)"
      ],
      "metadata": {
        "colab": {
          "base_uri": "https://localhost:8080/"
        },
        "id": "3shC_4V7nE9W",
        "outputId": "4a1335d9-54c8-468c-8026-97c200863946"
      },
      "execution_count": null,
      "outputs": [
        {
          "output_type": "stream",
          "name": "stdout",
          "text": [
            "10\n",
            "1.5\n"
          ]
        }
      ]
    },
    {
      "cell_type": "code",
      "source": [
        "from random import randint\n",
        "\n",
        "class Person4:\n",
        "  count = 0\n",
        "  def __init__(self, c):\n",
        "    self.id = Person.count\n",
        "    Person.count += 1\n",
        "    self.command = c\n"
      ],
      "metadata": {
        "id": "qwW6NJoSnxhr"
      },
      "execution_count": null,
      "outputs": []
    },
    {
      "cell_type": "code",
      "source": [
        "from random import randint\n",
        "class Person:\n",
        "  count = 0\n",
        "  def __init__(self,c):\n",
        "    self.id=Person.count\n",
        "    Person.count += 1\n",
        "    self.command = c\n",
        "\n",
        "class Hero(Person):\n",
        "  def __init__(self,c):\n",
        "    Person.__init__(self,c)\n",
        "    self.level = 1\n",
        "  def upLevel(self):\n",
        "    self.level += 1\n",
        "\n",
        "class Solider(Person):\n",
        "  def __init__(self,c):\n",
        "    Person.__init__(self,c)\n",
        "    self.my_hero = None\n",
        "  def follow(self,hero):\n",
        "    self.my_hero = hero.id\n",
        "\n",
        "h1 =Hero(1)\n",
        "h2=Hero(2)\n",
        "army1=[]\n",
        "army2=[]\n",
        "for i in range(20):\n",
        "  n = randint(1,2)\n",
        "  if n == 1:\n",
        "    army1.append(Solider(n))\n",
        "  else:\n",
        "    army2.append(Solider(n))\n",
        "print(len(army1),len(army2))\n",
        "\n",
        "if len(army1)>len(army2):\n",
        "  h1.upLevel()\n",
        "else:\n",
        "  h2.upLevel()\n",
        "\n",
        "army1[0].follow(h1)\n",
        "print(army1[0].id,h1.id)"
      ],
      "metadata": {
        "colab": {
          "base_uri": "https://localhost:8080/"
        },
        "id": "tMB-3qgKpta6",
        "outputId": "3898b29b-d9ec-4a35-9ca1-02e7f5c596e0"
      },
      "execution_count": null,
      "outputs": [
        {
          "output_type": "stream",
          "name": "stdout",
          "text": [
            "7 13\n",
            "5 0\n"
          ]
        }
      ]
    }
  ]
}