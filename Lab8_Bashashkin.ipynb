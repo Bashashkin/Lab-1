{
  "nbformat": 4,
  "nbformat_minor": 0,
  "metadata": {
    "colab": {
      "provenance": [],
      "authorship_tag": "ABX9TyO9zD4VzPbsbB7Whl11y1NY",
      "include_colab_link": true
    },
    "kernelspec": {
      "name": "python3",
      "display_name": "Python 3"
    },
    "language_info": {
      "name": "python"
    }
  },
  "cells": [
    {
      "cell_type": "markdown",
      "metadata": {
        "id": "view-in-github",
        "colab_type": "text"
      },
      "source": [
        "<a href=\"https://colab.research.google.com/github/Bashashkin/Lab-1/blob/main/Lab8_Bashashkin.ipynb\" target=\"_parent\"><img src=\"https://colab.research.google.com/assets/colab-badge.svg\" alt=\"Open In Colab\"/></a>"
      ]
    },
    {
      "cell_type": "markdown",
      "source": [
        "# Программирование на языке высокого уровня (Python).\n",
        "# https://www.yuripetrov.ru/edu/python\n",
        "# Задание task_08_02_01.\n",
        "# Выполнил: Башашкин А.М\n",
        "# Группа: АДЭУ-221\n",
        "# E-mail: alesha_2010@list.ru\n"
      ],
      "metadata": {
        "id": "TJ0SV7PFdtGU"
      }
    },
    {
      "cell_type": "markdown",
      "source": [
        "# № 8.2.1\n",
        "\n",
        "С клавиатуры в одной строке вводится произвольное количество вещественных чисел. Запишите их в файл, расположив каждое число на отдельной строке."
      ],
      "metadata": {
        "id": "wCa92qOpeOpV"
      }
    },
    {
      "cell_type": "code",
      "execution_count": null,
      "metadata": {
        "colab": {
          "base_uri": "https://localhost:8080/"
        },
        "id": "DcXlnlYpdhcj",
        "outputId": "c387f1d8-f675-41f8-a0af-ecfe73a8256b"
      },
      "outputs": [
        {
          "name": "stdout",
          "output_type": "stream",
          "text": [
            "1.2 2.4 3.5\n"
          ]
        }
      ],
      "source": [
        "\n",
        "def load_data():\n",
        "    \"\"\"Вернуть список вещественных чисел, введенных с клавиатуры.\n",
        "\n",
        "    Числа вводятся в одной строке.\"\"\"\n",
        "    s = list(map(float, input().split()))\n",
        "    return s\n",
        "\n",
        "\n",
        "def save_data(values, filename):\n",
        "    \"\"\"Записать данные в файл.\n",
        "\n",
        "    Параметры:\n",
        "        - values (list of float): список вещественных чисел;\n",
        "        - filename (str): имя файла.\n",
        "\n",
        "    Функция не обрабатывает исключения.\n",
        "    \"\"\"\n",
        "    f = open(filename, 'w')\n",
        "    for i in values:\n",
        "      f.write(str(i) + \"\\n\")\n",
        "    f.close()\n",
        "\n",
        "\n",
        "try:\n",
        "    filename = '123.txt'\n",
        "    values = load_data()\n",
        "    save_data(values, filename)\n",
        "\n",
        "except ValueError as err:\n",
        "    print(\"Числа были введены с ошибкой.\")\n",
        "\n",
        "except (OSError, IOError) as err:\n",
        "    print(\"Ошибка при сохранении файла с данными:\", err)\n",
        "\n",
        "except Exception as err:\n",
        "    print(\"Произошла ошибка!\")\n",
        "    print(\"Тип:\", type(err))\n",
        "    print(\"Описание:\", err)\n"
      ]
    },
    {
      "cell_type": "markdown",
      "source": [
        "# № 8.2.2\n",
        "\n",
        "Дан файл, полученный на выходе задачи № 8.2.1:\n",
        "\n",
        "загрузите список чисел;\n",
        "\n",
        "вычислите их сумму и максимум и допишите их в файл.\n",
        "\n",
        "Выполнив программу несколько раз, убедитесь, что новые значения учитываются при подсчете.\n",
        "\n",
        "Если файл прочитать не удается, программа должна прекратить чтение и сообщить об этом пользователю."
      ],
      "metadata": {
        "id": "h5C1ud_bgAgt"
      }
    },
    {
      "cell_type": "code",
      "source": [
        "def load_data(filename):\n",
        "    \"\"\"Загрузить список вещественных чисел из файла 'filename'.\n",
        "\n",
        "    Функция не обрабатывает исключения.\"\"\"\n",
        "    f = open(filename, 'r')\n",
        "    lst = []\n",
        "    for i in f:\n",
        "      lst.append(float(i))\n",
        "    f.close\n",
        "    return lst\n",
        "\n",
        "\n",
        "def append_to_file(values, filename):\n",
        "    \"\"\"Дописать данные в файл.\n",
        "\n",
        "    Параметры:\n",
        "        - values (list of float): список вещественных чисел;\n",
        "        - filename (str): имя файла.\n",
        "    \"\"\"\n",
        "    f = open(filename, \"a\")\n",
        "    f.write(str(sum(values)) + \"\\n\")\n",
        "    f.write(str(max(values)) + \"\\n\")\n",
        "    f.close()\n",
        "\n",
        "\n",
        "try:\n",
        "    filename = '123.txt'\n",
        "    values = load_data(filename)\n",
        "   \n",
        "    append_to_file(values, filename)\n",
        "\n",
        "except FileNotFoundError as err:\n",
        "    print(\"Указанный файл не существует.\")\n",
        "\n",
        "except (IOError, ValueError) as err:\n",
        "    print(\"Ошибка при чтении/сохранении файла с данными:\", err)\n",
        "\n",
        "except Exception as err:\n",
        "    print(\"Произошла ошибка!\")\n",
        "    print(\"Тип:\", type(err))\n",
        "    print(\"Описание:\", err)\n"
      ],
      "metadata": {
        "id": "QYqNT-i8gDie"
      },
      "execution_count": null,
      "outputs": []
    },
    {
      "cell_type": "code",
      "source": [
        "spisok = load_data('123.txt')\n",
        "print(spisok)"
      ],
      "metadata": {
        "colab": {
          "base_uri": "https://localhost:8080/"
        },
        "id": "7vq-4iYUhJT6",
        "outputId": "c66d72b7-b218-4c76-cd3a-78223771084b"
      },
      "execution_count": null,
      "outputs": [
        {
          "output_type": "stream",
          "name": "stdout",
          "text": [
            "[1.2, 2.4, 3.5, 7.1, 3.5]\n"
          ]
        }
      ]
    },
    {
      "cell_type": "markdown",
      "source": [
        "# 8.2.3\n",
        "Измените задачу № 8.2.2 так, чтобы вне зависимости от ошибок чтения файла, программа выполняла подсчет суммы и максимума."
      ],
      "metadata": {
        "id": "MBCZ_TNChmwY"
      }
    },
    {
      "cell_type": "code",
      "source": [
        "def load_data(filename):\n",
        "    \"\"\"Загрузить список вещественных чисел из файла 'filename'.\n",
        "\n",
        "    Функция не обрабатывает исключения.\"\"\"\n",
        "    f = open(filename, \"r\")\n",
        "    lst = []\n",
        "    for i in f:\n",
        "      if i[0].isdigit():\n",
        "        for j in range(len(i)-1):\n",
        "          if i[j].isdigit() or i[j] == \".\":\n",
        "            pass\n",
        "          else:\n",
        "            break\n",
        "        else:\n",
        "          lst.append(float(i))\n",
        "    f.close()\n",
        "    return lst\n",
        "          \n",
        "def append_to_file(values, filename):\n",
        "    \"\"\"Дописать данные в файл.\n",
        "\n",
        "    Параметры:\n",
        "        - values (list of float): список вещественных чисел;\n",
        "        - filename (str): имя файла.\n",
        "    \"\"\"\n",
        "    f = open(filename, \"a\")\n",
        "    f.write(str(sum(values)) + \"\\n\")\n",
        "    f.write(str(max(values)) + \"\\n\")\n",
        "    f.close()\n",
        "\n",
        "\n",
        "try:\n",
        "    filename = \"123.txt\"\n",
        "    values = load_data(filename)\n",
        "    print(values)\n",
        "\n",
        "    append_to_file(values, filename)\n",
        "\n",
        "except FileNotFoundError as err:\n",
        "    print(\"Указанный файл не существует.\")\n",
        "\n",
        "except IOError as err:\n",
        "    print(\"Ошибка при чтении/сохранении файла с данными:\", err)\n",
        "\n",
        "except Exception as err:\n",
        "    print(\"Произошла ошибка!\")\n",
        "    print(\"Тип:\", type(err))\n",
        "    print(\"Описание:\", err)\n",
        "\n"
      ],
      "metadata": {
        "colab": {
          "base_uri": "https://localhost:8080/"
        },
        "id": "aBt_QJiEhpoM",
        "outputId": "218f25f5-4401-4b9c-b494-d17d3e6c00e3"
      },
      "execution_count": null,
      "outputs": [
        {
          "output_type": "stream",
          "name": "stdout",
          "text": [
            "[1.2, 2.4, 3.5, 7.1, 3.5]\n"
          ]
        }
      ]
    },
    {
      "cell_type": "markdown",
      "source": [
        "#№ 8.2.4\n",
        "\n",
        "В файле записано стихотворение. Выведите его на экран, а также укажите, каких слов в нем больше: начинающихся на гласную или на согласную букву (регистр не учитывается)?"
      ],
      "metadata": {
        "id": "2rvEP3HIiHzR"
      }
    },
    {
      "cell_type": "code",
      "source": [
        "f = open('xyz.txt','w')\n",
        "f.write('Привет мир') \n",
        "f.close()"
      ],
      "metadata": {
        "id": "ncZDOVpHmq_i"
      },
      "execution_count": null,
      "outputs": []
    },
    {
      "cell_type": "code",
      "source": [
        "def load_text(filename):\n",
        "    \"\"\"Загрузить стихотворение из файла 'filename'.\n",
        "\n",
        "    Функция не обрабатывает исключения.\"\"\"\n",
        "    f = open(filename, \"r\")\n",
        "    txt = \" \"\n",
        "    for i in f:\n",
        "      txt += i\n",
        "    f.close()  \n",
        "    return txt.replace(\"\\n\", \" \")\n",
        "\n",
        "\n",
        "def letters_stats(text):\n",
        "    \"\"\"Вернуть словарь, содержащий количество гласных/согласных букв.\n",
        "\n",
        "    Параметры:\n",
        "        - text (str): стихотворение.\n",
        "\n",
        "    Результат:\n",
        "        - dict: словарь, содержащий количество гласных/согласных букв:\n",
        "                    {\n",
        "                        \"гласные\": 10,\n",
        "                        \"согласные\": 11\n",
        "                    }\n",
        "    \"\"\"\n",
        "    text = text.split()\n",
        "    dictionary = {\n",
        "                        \"гласные\": 0,\n",
        "                        \"согласные\": 0\n",
        "                    }\n",
        "    a = \"ауоиэыяюеё\"\n",
        "    b = \"бвгджзйклмнпрстфхцчшщ\"\n",
        "    for i in text:\n",
        "      if i[0].lower() in a:\n",
        "        dictionary[\"гласные\"] += 1\n",
        "      elif i[0].lower() in b:\n",
        "        dictionary[\"согласные\"] += 1\n",
        "    return dictionary\n",
        "\n",
        "\n",
        "# Добавьте в код обработку исключений\n",
        "try:\n",
        "  filename = input(\"Введите имя файла: \")\n",
        "  text = load_text(filename)\n",
        "\n",
        "  stats = letters_stats(text)\n",
        "  print(stats)\n",
        "except FileNotFoundError as err:\n",
        "    print(\"Указанный файл не существует.\")\n",
        "\n",
        "except IOError as err:\n",
        "    print(\"Ошибка при чтении/сохранении файла с данными:\", err)\n",
        "\n",
        "except Exception as err:\n",
        "    print(\"Произошла ошибка!\")\n",
        "    print(\"Тип:\", type(err))\n",
        "    print(\"Описание:\", err)\n",
        "\n"
      ],
      "metadata": {
        "colab": {
          "base_uri": "https://localhost:8080/"
        },
        "id": "y5aEsAUxiHgx",
        "outputId": "53b6298c-0693-4e7d-8ba0-3b5dabfae178"
      },
      "execution_count": null,
      "outputs": [
        {
          "output_type": "stream",
          "name": "stdout",
          "text": [
            "Введите имя файла: data.txt\n",
            "{'гласные': 8, 'согласные': 13}\n"
          ]
        }
      ]
    },
    {
      "cell_type": "markdown",
      "source": [
        "# № 8.2.5\n",
        "\n",
        "Информация о занятости мест в зрительном зале кинотеатра хранится в текстовом файле:\n",
        "![image.png](data:image/png;base64,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)\n",
        "где строка обозначает ряд, столбец - место (0 - свободно, 1 - занято).\n",
        "\n",
        "Напишите программу, которая позволит пользователю увидеть количество свободных мест, а также, введя номер ряда и места, получить информацию - свободно оно или нет."
      ],
      "metadata": {
        "id": "2eYZ4Sh-oamC"
      }
    },
    {
      "cell_type": "code",
      "source": [
        "class NoSuchSeatError(Exception):\n",
        "    def __init__(self, message):\n",
        "        super().__init__(message)\n",
        "\n",
        "\n",
        "def load_seats(filename):\n",
        "    \"\"\"Загрузить данные о местах в зале из файла 'filename'.\n",
        "\n",
        "    Результат: list of list вида:\n",
        "\n",
        "        [\n",
        "            [0, 0, 1],     # 1 ряд, первые 2 места свободны\n",
        "            [1, 1, 1, 1],  # 2 ряд, все места заняты\n",
        "            ...\n",
        "        ]\n",
        "\n",
        "    Функция не обрабатывает исключения.\"\"\"\n",
        "    f = open(filename, \"r\")\n",
        "    lst = []\n",
        "    for i in f:\n",
        "      lst.append(i)\n",
        "    f.close()\n",
        "    print(lst)\n",
        "    return lst\n",
        "\n",
        "\n",
        "\n",
        "def vacant_seats(seats):\n",
        "    \"\"\"Вернуть количество свободных мест в 'seats'.\n",
        "\n",
        "    Параметры:\n",
        "        - seats (list of list): данные из load_seats().\n",
        "\n",
        "    Результат:\n",
        "        - int: количество свободных мест.\n",
        "    \"\"\"\n",
        "    lst = load_seats(\"mesta.txt\")\n",
        "    seats = 0\n",
        "    for i in lst:\n",
        "      if lst == 0:\n",
        "        seats += 1\n",
        "    return seats\n",
        "\n",
        "\n",
        "def is_seat_vacant(seats, n_p, m_p):\n",
        "    \"\"\"Вернуть True, если место свободно.\n",
        "\n",
        "    Параметры:\n",
        "        - seats (list of list): данные из load_seats();\n",
        "        - n_p (int): номер ряда (индексация с 0);\n",
        "        - m_p (int): номер места (индексация с 0).\n",
        "\n",
        "    Результат:\n",
        "        - True/False: место свободно/нет.\n",
        "\n",
        "    Исключения:\n",
        "        - NoSuchSeatError: если места с указанными параметрами не существует.\n",
        "    \"\"\"\n",
        "    \n",
        "\n",
        "\n",
        "# Добавьте в код обработку исключений\n",
        "filename = input(\"Введите имя файла: \")\n",
        "seats = load_seats(filename)\n",
        "\n",
        "count = vacant_seats(seats)\n",
        "print(\"Всего свободных мест: {}\".format(count))\n",
        "\n",
        "# Ввод значений для поиска\n",
        "# Учитывайте, что пользователь привык считать с 1, а не с 0,\n",
        "# поэтому введенные сообщения необходимо скорректировать\n",
        "n_p, m_p = [int(item) for item in\n",
        "            input(\"Введите ряд и место через пробел: \").split()]\n",
        "\n",
        "print(\"Место свободно:\",\n",
        "      \"Да\" if is_seat_vacant(seats, n_p - 1, m_p - 1) else \"Нет\")"
      ],
      "metadata": {
        "colab": {
          "base_uri": "https://localhost:8080/",
          "height": 393
        },
        "id": "FWM9pMHIoj1O",
        "outputId": "10099f92-8cfa-4253-b432-efc34ac00bb9"
      },
      "execution_count": null,
      "outputs": [
        {
          "name": "stdout",
          "output_type": "stream",
          "text": [
            "Введите имя файла: mesta.txt\n"
          ]
        },
        {
          "output_type": "error",
          "ename": "ValueError",
          "evalue": "ignored",
          "traceback": [
            "\u001b[0;31m---------------------------------------------------------------------------\u001b[0m",
            "\u001b[0;31mValueError\u001b[0m                                Traceback (most recent call last)",
            "\u001b[0;32m<ipython-input-48-143386614737>\u001b[0m in \u001b[0;36m<module>\u001b[0;34m\u001b[0m\n\u001b[1;32m     62\u001b[0m \u001b[0;31m# Добавьте в код обработку исключений\u001b[0m\u001b[0;34m\u001b[0m\u001b[0;34m\u001b[0m\u001b[0;34m\u001b[0m\u001b[0m\n\u001b[1;32m     63\u001b[0m \u001b[0mfilename\u001b[0m \u001b[0;34m=\u001b[0m \u001b[0minput\u001b[0m\u001b[0;34m(\u001b[0m\u001b[0;34m\"Введите имя файла: \"\u001b[0m\u001b[0;34m)\u001b[0m\u001b[0;34m\u001b[0m\u001b[0;34m\u001b[0m\u001b[0m\n\u001b[0;32m---> 64\u001b[0;31m \u001b[0mseats\u001b[0m \u001b[0;34m=\u001b[0m \u001b[0mload_seats\u001b[0m\u001b[0;34m(\u001b[0m\u001b[0mfilename\u001b[0m\u001b[0;34m)\u001b[0m\u001b[0;34m\u001b[0m\u001b[0;34m\u001b[0m\u001b[0m\n\u001b[0m\u001b[1;32m     65\u001b[0m \u001b[0;34m\u001b[0m\u001b[0m\n\u001b[1;32m     66\u001b[0m \u001b[0mcount\u001b[0m \u001b[0;34m=\u001b[0m \u001b[0mvacant_seats\u001b[0m\u001b[0;34m(\u001b[0m\u001b[0mseats\u001b[0m\u001b[0;34m)\u001b[0m\u001b[0;34m\u001b[0m\u001b[0;34m\u001b[0m\u001b[0m\n",
            "\u001b[0;32m<ipython-input-48-143386614737>\u001b[0m in \u001b[0;36mload_seats\u001b[0;34m(filename)\u001b[0m\n\u001b[1;32m     19\u001b[0m     \u001b[0mlst\u001b[0m \u001b[0;34m=\u001b[0m \u001b[0;34m[\u001b[0m\u001b[0;34m]\u001b[0m\u001b[0;34m\u001b[0m\u001b[0;34m\u001b[0m\u001b[0m\n\u001b[1;32m     20\u001b[0m     \u001b[0;32mfor\u001b[0m \u001b[0mi\u001b[0m \u001b[0;32min\u001b[0m \u001b[0mf\u001b[0m\u001b[0;34m:\u001b[0m\u001b[0;34m\u001b[0m\u001b[0;34m\u001b[0m\u001b[0m\n\u001b[0;32m---> 21\u001b[0;31m       \u001b[0mlst\u001b[0m\u001b[0;34m.\u001b[0m\u001b[0mappend\u001b[0m\u001b[0;34m(\u001b[0m\u001b[0mint\u001b[0m\u001b[0;34m(\u001b[0m\u001b[0mi\u001b[0m\u001b[0;34m)\u001b[0m\u001b[0;34m)\u001b[0m\u001b[0;34m\u001b[0m\u001b[0;34m\u001b[0m\u001b[0m\n\u001b[0m\u001b[1;32m     22\u001b[0m     \u001b[0mf\u001b[0m\u001b[0;34m.\u001b[0m\u001b[0mclose\u001b[0m\u001b[0;34m(\u001b[0m\u001b[0;34m)\u001b[0m\u001b[0;34m\u001b[0m\u001b[0;34m\u001b[0m\u001b[0m\n\u001b[1;32m     23\u001b[0m     \u001b[0mprint\u001b[0m\u001b[0;34m(\u001b[0m\u001b[0mlst\u001b[0m\u001b[0;34m)\u001b[0m\u001b[0;34m\u001b[0m\u001b[0;34m\u001b[0m\u001b[0m\n",
            "\u001b[0;31mValueError\u001b[0m: invalid literal for int() with base 10: '0 0 1 1\\n'"
          ]
        }
      ]
    },
    {
      "cell_type": "markdown",
      "source": [
        "# 8.2.6 \n",
        "\n",
        "![image.png](data:image/png;base64,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)"
      ],
      "metadata": {
        "id": "G-dGWy1qplDs"
      }
    },
    {
      "cell_type": "code",
      "source": [
        "CORRUPTED = -1\n",
        "\n",
        "parties = {\n",
        "    1: \"Партия №1\", 2: \"Партия №2\", 3: \"Партия №3\",\n",
        "    4: \"Партия №4\", 5: \"Партия №5\", CORRUPTED: \"Испорчено\"\n",
        "}\n",
        "\n",
        "\n",
        "def load_votes(filename):\n",
        "    \"\"\"Загрузить результаты голосования.\n",
        "\n",
        "    Если отдельное значение не распознается (не является целым числом),\n",
        "    считается, что бланк испорчен (-1).\n",
        "\n",
        "    Параметры:\n",
        "        - filename (str): имя файла.\n",
        "\n",
        "    Результат:\n",
        "        - list of int\n",
        "\n",
        "    Функция не обрабатывает исключения.\"\"\"\n",
        "    f = open(filename, 'r')\n",
        "    b = f.readline().split()\n",
        "    f.close()\n",
        "    lst = []\n",
        "    for i in b:\n",
        "        if i.isdigit():\n",
        "            lst.append(int(i))\n",
        "        else:\n",
        "            lst.append(CORRUPTED)\n",
        "    return lst\n",
        "\n",
        "\n",
        "\n",
        "def parties_votes(parties, votes):\n",
        "    \"\"\"Вернуть информацию о голосах 'votes', отданных за партии 'parties'.\n",
        "    Испорченные бланки также присутствуют в результате.\n",
        "\n",
        "    Если среди голосов найдены партии, не присутствующие в списке\n",
        "    'parties', они записываются в группу \"Испорчено\".\n",
        "\n",
        "    Параметры:\n",
        "        - parties (dict): информация о партиях (номер голоса: название);\n",
        "        - votes (list): номера голосов.\n",
        "\n",
        "    Результат:\n",
        "        dict: название: кол-во отданных голосов.\"\"\"\n",
        "    dictionary={}\n",
        "    for i in parties:\n",
        "       dictionary[parties[i]]=0\n",
        "    for i in votes:\n",
        "      if i in parties:\n",
        "        dictionary[parties[i]] += 1\n",
        "      else:\n",
        "         dictionary['Испорчено'] += 1\n",
        "    return dictionary\n",
        "\n",
        "\n",
        "\n",
        "def print_results(votes_for_p):\n",
        "    \"\"\"Вывести результаты голосования в формате:\n",
        "\n",
        "    1. Партия №2 | 1111 | 58.21%\n",
        "    2. Партия №4 |  999 | 38.14%\n",
        "\n",
        "    Кол-во голосов и % выровнены по правому краю.\n",
        "\n",
        "    Параметры:\n",
        "        - votes_for_p (dict): результат функции parties_votes().\n",
        "    \"\"\"\n",
        "    sorted_dict = {}\n",
        "    a = sorted(votes_for_p.values(), reverse=True)\n",
        "    count = 0\n",
        "    for i in a:\n",
        "        for k in votes_for_p.keys():\n",
        "            if votes_for_p[k] == i:\n",
        "                sorted_dict[k] = votes_for_p[k]\n",
        "                if k != 'Испорчено':\n",
        "                    count += votes_for_p[k]\n",
        "                break\n",
        "    k = 1\n",
        "    for i in sorted_dict:\n",
        "        if i != 'Испорчено':\n",
        "            print(\n",
        "                '%3d.%10s | %4d | %5.2f' % (k, i, sorted_dict[i], round(100 * sorted_dict[i] / count, 2)) + '%')\n",
        "            k += 1\n",
        "\n",
        "\n",
        "try:\n",
        "  filename = input(\"Введите имя файла: \")\n",
        "\n",
        "  votes = load_votes(filename)\n",
        "  votes_for_p = parties_votes(parties, votes)\n",
        "  print_results(parties_votes(parties, votes))\n",
        "\n",
        "except FileNotFoundError as err:\n",
        "    print(\"Указанный файл не существует.\")\n",
        "\n",
        "except IOError as err:\n",
        "    print(\"Ошибка при чтении/сохранении файла с данными:\", err)\n",
        "\n",
        "except Exception as err:\n",
        "    print(\"Произошла ошибка!\")\n",
        "    print(\"Тип:\", type(err))\n",
        "    print(\"Описание:\", err)"
      ],
      "metadata": {
        "colab": {
          "base_uri": "https://localhost:8080/"
        },
        "id": "1N_51aKap-tz",
        "outputId": "7727f8a3-fe1c-4277-c283-eca381b1318c"
      },
      "execution_count": null,
      "outputs": [
        {
          "output_type": "stream",
          "name": "stdout",
          "text": [
            "Введите имя файла: votes.txt\n",
            "  1. Партия №3 |   27 | 28.42%\n",
            "  2. Партия №1 |   22 | 23.16%\n",
            "  3. Партия №2 |   20 | 21.05%\n",
            "  4. Партия №5 |   14 | 14.74%\n",
            "  5. Партия №4 |   12 | 12.63%\n"
          ]
        }
      ]
    },
    {
      "cell_type": "code",
      "source": [],
      "metadata": {
        "id": "ZHcBmQH4qsFP"
      },
      "execution_count": null,
      "outputs": []
    }
  ]
}