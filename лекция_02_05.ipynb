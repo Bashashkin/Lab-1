{
  "nbformat": 4,
  "nbformat_minor": 0,
  "metadata": {
    "colab": {
      "provenance": [],
      "authorship_tag": "ABX9TyMln27DoThE7+vsyQcQhyEa",
      "include_colab_link": true
    },
    "kernelspec": {
      "name": "python3",
      "display_name": "Python 3"
    },
    "language_info": {
      "name": "python"
    }
  },
  "cells": [
    {
      "cell_type": "markdown",
      "metadata": {
        "id": "view-in-github",
        "colab_type": "text"
      },
      "source": [
        "<a href=\"https://colab.research.google.com/github/Bashashkin/Lab-1/blob/main/%D0%BB%D0%B5%D0%BA%D1%86%D0%B8%D1%8F_02_05.ipynb\" target=\"_parent\"><img src=\"https://colab.research.google.com/assets/colab-badge.svg\" alt=\"Open In Colab\"/></a>"
      ]
    },
    {
      "cell_type": "markdown",
      "source": [
        "# Декораторы - 2"
      ],
      "metadata": {
        "id": "qGO4DJfX2Xd0"
      }
    },
    {
      "cell_type": "code",
      "execution_count": null,
      "metadata": {
        "id": "U8cL-71z2R8n",
        "colab": {
          "base_uri": "https://localhost:8080/"
        },
        "outputId": "f9c9d73f-e3f6-4f86-ded1-4d576cf4bd1b"
      },
      "outputs": [
        {
          "output_type": "stream",
          "name": "stdout",
          "text": [
            "Aaaammm!\n"
          ]
        }
      ],
      "source": [
        "class Cat:\n",
        "  def __init__(self):\n",
        "    self.hungry = True\n",
        "  def eat(self):\n",
        "    if self.hungry:\n",
        "      print('I am hungry...')\n",
        "      self.hugry = False\n",
        "    else:\n",
        "      print('No, thanks!')  \n",
        "\n",
        "class Barsik(Cat):\n",
        "  def __init__(self):\n",
        "    self.sound = 'Aaaammm!'\n",
        "    print(self.sound)\n",
        "  \n",
        "brs = Barsik()"
      ]
    },
    {
      "cell_type": "code",
      "source": [
        "class Barsik(Cat):\n",
        "  def __init__(self):\n",
        "    Cat.__init__(self)    # без данной строки на barsik.eat() - будет вылезать ошибка\n",
        "    self.sound = 'Aaaammm!'\n",
        "    print(self.sound)"
      ],
      "metadata": {
        "id": "8bLg4qlI_upf"
      },
      "execution_count": null,
      "outputs": []
    },
    {
      "cell_type": "code",
      "source": [
        "__metaclass__ = type\n",
        "\n",
        "class Barsik(Cat):\n",
        "  def __init__(self):\n",
        "    super(Barsik, self).__init__()\n",
        "    self.sound = 'Aaaammm!'\n",
        "    print(self.sound)"
      ],
      "metadata": {
        "id": "fJW2IzxEALoL"
      },
      "execution_count": null,
      "outputs": []
    },
    {
      "cell_type": "code",
      "source": [
        "brs = Barsik()\n",
        "brs.eat()"
      ],
      "metadata": {
        "colab": {
          "base_uri": "https://localhost:8080/"
        },
        "id": "JkFwVbMJAOP1",
        "outputId": "76fae679-e0f5-4ac3-bbcc-d4ae75b247e1"
      },
      "execution_count": null,
      "outputs": [
        {
          "output_type": "stream",
          "name": "stdout",
          "text": [
            "Aaaammm!\n",
            "I am hungry...\n"
          ]
        }
      ]
    },
    {
      "cell_type": "code",
      "source": [
        "class Spam:\n",
        "  numInstances = 0\n",
        "  def __init__(self):\n",
        "    Spam.numInstances = Spam.numInstances + 1\n",
        "\n",
        "def printNumInstances():\n",
        "  print('Number of instances created: ', Spam.numInstances)\n",
        "\n",
        "a = Spam()\n",
        "b = Spam()\n",
        "printNumInstances()"
      ],
      "metadata": {
        "colab": {
          "base_uri": "https://localhost:8080/"
        },
        "id": "hXw4Mch0AQxm",
        "outputId": "585c8799-a695-4310-fceb-db540471e06b"
      },
      "execution_count": null,
      "outputs": [
        {
          "output_type": "stream",
          "name": "stdout",
          "text": [
            "Number of instances created:  2\n"
          ]
        }
      ]
    },
    {
      "cell_type": "code",
      "source": [
        "class Multi:\n",
        "  def imeth(self, x):\n",
        "    print(self, x)\n",
        "  def smeth(x):\n",
        "    print(x)\n",
        "  def cmeth(cls, x):\n",
        "    print(cls, x)\n",
        "  smeth = staticmethod(smeth)\n",
        "  cmeth = classmethod(cmeth)\n",
        "\n",
        "Multi.smeth(3)\n",
        "\n",
        "obj = Multi()\n",
        "obj.smeth(5)\n",
        "Multi.cmeth(7)\n",
        "obj.cmeth(10)"
      ],
      "metadata": {
        "colab": {
          "base_uri": "https://localhost:8080/"
        },
        "id": "MRD73sIjAcVu",
        "outputId": "66ab98f9-641f-41f5-e4d6-2ecb08576465"
      },
      "execution_count": null,
      "outputs": [
        {
          "output_type": "stream",
          "name": "stdout",
          "text": [
            "3\n",
            "5\n",
            "<class '__main__.Multi'> 7\n",
            "<class '__main__.Multi'> 10\n"
          ]
        }
      ]
    },
    {
      "cell_type": "code",
      "source": [
        "class Reverse:\n",
        "  def __init__(self, data):\n",
        "    self.data = data\n",
        "    self.index = len(data)\n",
        "  def __iter__(self):\n",
        "    return self\n",
        "  def next(self):\n",
        "    if self.index == 0:\n",
        "      raise StopIteration\n",
        "    self.index =self.index - 1\n",
        "    return self.data[self.index]\n"
      ],
      "metadata": {
        "id": "s5cD48yPAmW2"
      },
      "execution_count": null,
      "outputs": []
    },
    {
      "cell_type": "code",
      "source": [
        "class DateOffest:\n",
        "  def __init__(self):\n",
        "    self.start = 0\n",
        "  def _get_offest(self):\n",
        "    self.start +=5\n",
        "    return self.start\n",
        "  offest = property(_get_offest)\n",
        "  \n",
        "d = DateOffest()\n",
        "d.offest"
      ],
      "metadata": {
        "colab": {
          "base_uri": "https://localhost:8080/"
        },
        "id": "B80D5N_DArFl",
        "outputId": "d007736c-a583-4768-fbf6-8ba5ea6eedd7"
      },
      "execution_count": null,
      "outputs": [
        {
          "output_type": "execute_result",
          "data": {
            "text/plain": [
              "5"
            ]
          },
          "metadata": {},
          "execution_count": 30
        }
      ]
    },
    {
      "cell_type": "code",
      "source": [
        "class Singleton(object):\n",
        "  def __new__(cls, *args, **kw):\n",
        "    if not hasattr(cls, '_instance'):\n",
        "      orig = super(Singleton, cls)\n",
        "      cls._instance = orig.__new__(cls, *args, **kw)\n",
        "    return cls._instance\n",
        "\n",
        "one = Singleton()\n",
        "two = Singleton()"
      ],
      "metadata": {
        "id": "bv9vSl_AAwIK"
      },
      "execution_count": null,
      "outputs": []
    },
    {
      "cell_type": "code",
      "source": [
        "id(one)"
      ],
      "metadata": {
        "colab": {
          "base_uri": "https://localhost:8080/"
        },
        "id": "wRYMtgOIAy6D",
        "outputId": "55de9d10-eaec-4c47-c134-dbd570f24eeb"
      },
      "execution_count": null,
      "outputs": [
        {
          "output_type": "execute_result",
          "data": {
            "text/plain": [
              "139753719550000"
            ]
          },
          "metadata": {},
          "execution_count": 32
        }
      ]
    },
    {
      "cell_type": "code",
      "source": [
        "id(two)"
      ],
      "metadata": {
        "colab": {
          "base_uri": "https://localhost:8080/"
        },
        "id": "DnjTlb2GA0gE",
        "outputId": "d435ba05-a719-4f74-e0cc-7573957e526e"
      },
      "execution_count": null,
      "outputs": [
        {
          "output_type": "execute_result",
          "data": {
            "text/plain": [
              "139753719550000"
            ]
          },
          "metadata": {},
          "execution_count": 33
        }
      ]
    },
    {
      "cell_type": "code",
      "source": [
        "class Limiter(object):\n",
        "  __slots__ = ['age', 'name', 'job']"
      ],
      "metadata": {
        "id": "hDHNq4BcA3M4"
      },
      "execution_count": null,
      "outputs": []
    },
    {
      "cell_type": "code",
      "source": [
        "x = Limiter()"
      ],
      "metadata": {
        "id": "KxJONNd6A4eQ"
      },
      "execution_count": null,
      "outputs": []
    },
    {
      "cell_type": "code",
      "source": [
        "x.age = 20"
      ],
      "metadata": {
        "id": "8ZKVADjOA7V9"
      },
      "execution_count": null,
      "outputs": []
    },
    {
      "cell_type": "code",
      "source": [
        "class SortKey:\n",
        "  def __int__(self, *attribute_names):\n",
        "    self.attribute_names = attribute_names\n",
        "  def __call__(self, instance):\n",
        "    values = []\n",
        "    for attribute_name in self.attribute_names:\n",
        "      values.append(getattr(instance, attribute_name))\n",
        "    return values"
      ],
      "metadata": {
        "id": "dUtkds_AA920"
      },
      "execution_count": null,
      "outputs": []
    },
    {
      "cell_type": "code",
      "source": [
        "class Person:\n",
        "  def __init__(self, forename, surname, email):\n",
        "    self.forename = forename\n",
        "    self.surname = surname\n",
        "    self.email = email\n",
        "\n",
        "people = []\n",
        "p = Person('Petrov', '', '')\n",
        "people.append(p)\n",
        "p = Person('Sidorov', '', '')\n",
        "people.append(p)\n",
        "p = Person(u'Ivanov', '', '')\n",
        "people.append(p)\n",
        "for p in people:\n",
        "  print(p.forename)"
      ],
      "metadata": {
        "colab": {
          "base_uri": "https://localhost:8080/"
        },
        "id": "lpdQe9mkA_km",
        "outputId": "d4d050fa-657d-475e-9449-d6791f328bbf"
      },
      "execution_count": null,
      "outputs": [
        {
          "output_type": "stream",
          "name": "stdout",
          "text": [
            "Petrov\n",
            "Sidorov\n",
            "Ivanov\n"
          ]
        }
      ]
    },
    {
      "cell_type": "code",
      "source": [
        "class ExternalStorange:\n",
        "  __slots__ = ('attribute_name')\n",
        "  __storage = {}\n",
        "  def __init__(self, attribute_name):\n",
        "    self.attribute_name = attribute_name\n",
        "  def __set__(self, instance, value):\n",
        "    self.__storage[id(instance), self.attribute_name] = value\n",
        "  def __get__(self, instance, owner=None):\n",
        "    if instance is None:\n",
        "      return self\n",
        "    return self.__storage[id(instance), self.attribute_name]"
      ],
      "metadata": {
        "id": "Xsiey5UXBNa8"
      },
      "execution_count": null,
      "outputs": []
    },
    {
      "cell_type": "code",
      "source": [
        "class Point:\n",
        "  __slots__ = ()\n",
        "  x = ExternalStorange('x')\n",
        "  y = ExternalStorange('y')\n",
        "  def __init__(self, x=0, y=0):\n",
        "    self.x = x\n",
        "    self.y = y\n",
        "\n",
        "p1 = Point(1, 2)\n",
        "p2 = Point(3, 4)"
      ],
      "metadata": {
        "id": "kOwXPEKQBPWX"
      },
      "execution_count": null,
      "outputs": []
    },
    {
      "cell_type": "code",
      "source": [
        "class MySequence:\n",
        "  def __init__(self, start=0, step=1):\n",
        "    self.start = start\n",
        "    self.step = step\n",
        "    self.changed = {}\n",
        "  def __getitem__(self, key):\n",
        "    return self.start + key*self.step\n",
        "  def __setitem__(self, key, value):\n",
        "    self.changed[key] = value\n",
        "\n",
        "s = MySequence(1, 2)\n",
        "s[0]\n"
      ],
      "metadata": {
        "colab": {
          "base_uri": "https://localhost:8080/"
        },
        "id": "rkEltcBCBUw5",
        "outputId": "b739d811-0234-4ba1-92e8-d9b4931a73f4"
      },
      "execution_count": null,
      "outputs": [
        {
          "output_type": "execute_result",
          "data": {
            "text/plain": [
              "1"
            ]
          },
          "metadata": {},
          "execution_count": 46
        }
      ]
    },
    {
      "cell_type": "code",
      "source": [
        "s[1]"
      ],
      "metadata": {
        "colab": {
          "base_uri": "https://localhost:8080/"
        },
        "id": "TllpxyW6Bdin",
        "outputId": "9e8fa099-f5ad-46e0-ca02-2371e6bf99a8"
      },
      "execution_count": null,
      "outputs": [
        {
          "output_type": "execute_result",
          "data": {
            "text/plain": [
              "3"
            ]
          },
          "metadata": {},
          "execution_count": 48
        }
      ]
    },
    {
      "cell_type": "code",
      "source": [
        "s[100]"
      ],
      "metadata": {
        "colab": {
          "base_uri": "https://localhost:8080/"
        },
        "id": "-TTEORFsBfT0",
        "outputId": "f391981c-1105-411b-f84e-6b03f72173eb"
      },
      "execution_count": null,
      "outputs": [
        {
          "output_type": "execute_result",
          "data": {
            "text/plain": [
              "201"
            ]
          },
          "metadata": {},
          "execution_count": 49
        }
      ]
    },
    {
      "cell_type": "markdown",
      "source": [
        "#Практические задания\n",
        "\n",
        "Задание 1"
      ],
      "metadata": {
        "id": "DxvvR_zYAzTm"
      }
    },
    {
      "cell_type": "code",
      "source": [
        "class Thing:\n",
        "  pass\n",
        "\n",
        "print(Thing())\n",
        "example = Thing()\n",
        "print(example)"
      ],
      "metadata": {
        "colab": {
          "base_uri": "https://localhost:8080/"
        },
        "id": "sJk1yY45A1VI",
        "outputId": "c7d69120-ea15-4164-9c29-e2291499713f"
      },
      "execution_count": null,
      "outputs": [
        {
          "output_type": "stream",
          "name": "stdout",
          "text": [
            "<__main__.Thing object at 0x7f1b211b0cd0>\n",
            "<__main__.Thing object at 0x7f1b2112ba30>\n"
          ]
        }
      ]
    },
    {
      "cell_type": "markdown",
      "source": [
        "Задание 2"
      ],
      "metadata": {
        "id": "R14z77DZBpCm"
      }
    },
    {
      "cell_type": "code",
      "source": [
        "class Thing2:\n",
        "  letters = 'abc'\n",
        "\n",
        "example = Thing2()\n",
        "print(example.letters)\n"
      ],
      "metadata": {
        "colab": {
          "base_uri": "https://localhost:8080/"
        },
        "id": "j79DJ89sBqxm",
        "outputId": "c2a608cd-34bd-48b6-e1e4-04df2f0f334e"
      },
      "execution_count": null,
      "outputs": [
        {
          "output_type": "stream",
          "name": "stdout",
          "text": [
            "abc\n"
          ]
        }
      ]
    },
    {
      "cell_type": "markdown",
      "source": [
        "Задание 3"
      ],
      "metadata": {
        "id": "kEH2EhEmDL3C"
      }
    },
    {
      "cell_type": "code",
      "source": [
        "class Thing3  :\n",
        "  letters = 'xyz'\n",
        "\n",
        "print(Thing3.letters) \n"
      ],
      "metadata": {
        "colab": {
          "base_uri": "https://localhost:8080/"
        },
        "id": "Pzpc5EPADNdE",
        "outputId": "48641f8a-29e1-4a62-9240-1378b578ea4c"
      },
      "execution_count": null,
      "outputs": [
        {
          "output_type": "stream",
          "name": "stdout",
          "text": [
            "xyz\n"
          ]
        }
      ]
    },
    {
      "cell_type": "markdown",
      "source": [
        "Задание 4"
      ],
      "metadata": {
        "id": "h_KZQHafDwgn"
      }
    },
    {
      "cell_type": "code",
      "source": [
        "class Element:\n",
        "  def __init__(self,name,symbol,number):\n",
        "    self.name = name\n",
        "    self.symbol = symbol\n",
        "    self.number = number\n",
        "\n",
        "Hydrogen = Element('Hydrogen', 'H',1)"
      ],
      "metadata": {
        "id": "zI1_vVK-Dx88"
      },
      "execution_count": null,
      "outputs": []
    },
    {
      "cell_type": "markdown",
      "source": [
        "Задание 5"
      ],
      "metadata": {
        "id": "8AR3EDfiF0pR"
      }
    },
    {
      "cell_type": "code",
      "source": [
        "elements_dict ={'name': 'Hydrogen', 'symbol': 'H', 'number': 1}\n",
        "hydrogen = Element(**elements_dict)"
      ],
      "metadata": {
        "id": "iSSPdw7t-56D"
      },
      "execution_count": null,
      "outputs": []
    },
    {
      "cell_type": "markdown",
      "source": [
        "Задание 6"
      ],
      "metadata": {
        "id": "vuSCNh4G_HHF"
      }
    },
    {
      "cell_type": "code",
      "source": [
        "class Element:\n",
        "    def __init__(self, name, symbol, number):\n",
        "        self.name = name\n",
        "        self.symbol = symbol\n",
        "        self.number = number\n",
        "        \n",
        "    def dump(self):\n",
        "        print(f\"Name: {self.name}, Symbol: {self.symbol}, Number: {self.number}\")\n",
        "    \n",
        "elements_dict = {'name': 'Hydrogen', 'symbol': 'H', 'number': 1}\n",
        "hydrogen = Element(**elements_dict)\n",
        "\n",
        "hydrogen.dump()"
      ],
      "metadata": {
        "colab": {
          "base_uri": "https://localhost:8080/"
        },
        "id": "WpshK0gP_JLr",
        "outputId": "0c92da31-9b0b-4e3f-a7b4-57a1030162ef"
      },
      "execution_count": null,
      "outputs": [
        {
          "output_type": "stream",
          "name": "stdout",
          "text": [
            "Name: Hydrogen, Symbol: H, Number: 1\n"
          ]
        }
      ]
    },
    {
      "cell_type": "markdown",
      "source": [
        "Задание 7"
      ],
      "metadata": {
        "id": "XpvHbgZZ_M4z"
      }
    },
    {
      "cell_type": "code",
      "source": [
        "class Element:\n",
        "    def __init__(self, name, symbol, number): \n",
        "        self.name = name\n",
        "        self.symbol = symbol\n",
        "        self.number = number\n",
        "        \n",
        "    def __str__(self):\n",
        "        return f\"Name: {self.name}, Symbol: {self.symbol}, Number: {self.number}\"\n",
        "\n",
        "element_data = {'name': 'Hydrogen', 'symbol': 'H', 'number': 1}\n",
        "hydrogen = Element(**element_data)\n",
        "\n",
        "print(hydrogen)\n",
        "\n",
        "new_hydrogen = Element('Hydrogen', 'H', 1)\n",
        "\n",
        "print(new_hydrogen) \n"
      ],
      "metadata": {
        "colab": {
          "base_uri": "https://localhost:8080/"
        },
        "id": "WYOqSjEZ_N-Y",
        "outputId": "fd6a6af5-bf31-435b-e0c2-fbe52b84bf99"
      },
      "execution_count": null,
      "outputs": [
        {
          "output_type": "stream",
          "name": "stdout",
          "text": [
            "Name: Hydrogen, Symbol: H, Number: 1\n",
            "Name: Hydrogen, Symbol: H, Number: 1\n"
          ]
        }
      ]
    },
    {
      "cell_type": "markdown",
      "source": [
        "Задание 8 "
      ],
      "metadata": {
        "id": "Rw28JNGe_Qsd"
      }
    },
    {
      "cell_type": "code",
      "source": [
        "class Element:\n",
        "    def __init__(self, name, symbol, number): \n",
        "        self._name = name  \n",
        "        self._symbol = symbol \n",
        "        self._number = number \n",
        "        \n",
        "    @property\n",
        "    def name(self):\n",
        "        return self._name\n",
        "    \n",
        "    @property\n",
        "    def symbol(self):\n",
        "        return self._symbol\n",
        "    \n",
        "    @property\n",
        "    def number(self):\n",
        "        return self._number\n",
        "\n",
        "element_data = {'name': 'Hydrogen', 'symbol': 'H', 'number': 1}\n",
        "hydrogen = Element(**element_data)\n",
        "\n",
        "print(hydrogen.name)\n",
        "print(hydrogen.symbol)\n",
        "print(hydrogen.number)"
      ],
      "metadata": {
        "colab": {
          "base_uri": "https://localhost:8080/"
        },
        "id": "9PK0-Y1p_Rw3",
        "outputId": "f7ae6d1c-d813-49d5-879b-e712d1ab6bd3"
      },
      "execution_count": null,
      "outputs": [
        {
          "output_type": "stream",
          "name": "stdout",
          "text": [
            "Hydrogen\n",
            "H\n",
            "1\n"
          ]
        }
      ]
    },
    {
      "cell_type": "markdown",
      "source": [
        "Задание 9 "
      ],
      "metadata": {
        "id": "4yfExRpD_TBn"
      }
    },
    {
      "cell_type": "code",
      "source": [
        "class Bear:\n",
        "    def eats(self):\n",
        "        return 'berries'\n",
        "\n",
        "class Rabbit:\n",
        "    def eats(self):\n",
        "        return 'clover'\n",
        "\n",
        "class Octothorpe:\n",
        "    def eats(self):\n",
        "        return 'campers'\n",
        "\n",
        "bear = Bear()\n",
        "rabbit = Rabbit()\n",
        "octothorpe = Octothorpe()\n",
        "\n",
        "print(bear.eats()) \n",
        "print(rabbit.eats()) \n",
        "print(octothorpe.eats())  "
      ],
      "metadata": {
        "colab": {
          "base_uri": "https://localhost:8080/"
        },
        "id": "FP7I7nRV_UfE",
        "outputId": "90f17e90-14b6-4f65-9b3c-11547d1e80bc"
      },
      "execution_count": null,
      "outputs": [
        {
          "output_type": "stream",
          "name": "stdout",
          "text": [
            "berries\n",
            "clover\n",
            "campers\n"
          ]
        }
      ]
    },
    {
      "cell_type": "markdown",
      "source": [
        "Задание 10"
      ],
      "metadata": {
        "id": "34jdcJot_ZHY"
      }
    },
    {
      "cell_type": "code",
      "source": [
        "class Laser:\n",
        "    def does(self):\n",
        "        return 'disintegrate'\n",
        "\n",
        "class Claw:\n",
        "    def does(self):\n",
        "        return 'crush'\n",
        "\n",
        "class SmartPhone:\n",
        "    def does(self):\n",
        "        return 'ring'\n",
        "\n",
        "class Robot:\n",
        "    def __init__(self):\n",
        "        self.laser = Laser()\n",
        "        self.claw = Claw()\n",
        "        self.smartphone = SmartPhone()\n",
        "\n",
        "    def does(self):\n",
        "        print(f\"Laser: {self.laser.does()}\") \n",
        "        print(f\"Claw: {self.claw.does()}\")\n",
        "        print(f\"SmartPhone: {self.smartphone.does()}\")\n",
        "\n",
        "robot = Robot()\n",
        "robot.does()  "
      ],
      "metadata": {
        "colab": {
          "base_uri": "https://localhost:8080/"
        },
        "id": "5G_qb1ku_aYM",
        "outputId": "f8e65336-c9b6-4cf3-d172-94bc68da753b"
      },
      "execution_count": null,
      "outputs": [
        {
          "output_type": "stream",
          "name": "stdout",
          "text": [
            "Laser: disintegrate\n",
            "Claw: crush\n",
            "SmartPhone: ring\n"
          ]
        }
      ]
    }
  ]
}