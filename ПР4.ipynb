{
  "nbformat": 4,
  "nbformat_minor": 0,
  "metadata": {
    "colab": {
      "provenance": [],
      "authorship_tag": "ABX9TyOZeZsqj4DRktECdIzTlz/u",
      "include_colab_link": true
    },
    "kernelspec": {
      "name": "python3",
      "display_name": "Python 3"
    },
    "language_info": {
      "name": "python"
    }
  },
  "cells": [
    {
      "cell_type": "markdown",
      "metadata": {
        "id": "view-in-github",
        "colab_type": "text"
      },
      "source": [
        "<a href=\"https://colab.research.google.com/github/Bashashkin/Lab-1/blob/main/%D0%9F%D0%A04.ipynb\" target=\"_parent\"><img src=\"https://colab.research.google.com/assets/colab-badge.svg\" alt=\"Open In Colab\"/></a>"
      ]
    },
    {
      "cell_type": "code",
      "execution_count": 44,
      "metadata": {
        "colab": {
          "base_uri": "https://localhost:8080/"
        },
        "id": "SzVFrXlwt-yw",
        "outputId": "87d20ff8-590b-402c-fcce-8679cd4087ac"
      },
      "outputs": [
        {
          "output_type": "stream",
          "name": "stdout",
          "text": [
            "Введите название книги по программированиюasdf\n",
            "Введите количество страниц1000\n",
            "Введите стоимость книги1000\n",
            "Введите год издания2022\n",
            "Резульатат работы функции:  0.8\n"
          ]
        }
      ],
      "source": [
        "from datetime import datetime\n",
        "\n",
        "class Book:\n",
        "  def __init__(self, name, pages, price):\n",
        "    self.name = name\n",
        "    self.pages = pages\n",
        "    self.price = price\n",
        "  def q(self):\n",
        "    return self.price/self.pages\n",
        "\n",
        "class ProgrammingBook(Book):\n",
        "  def __init__(self, name, pages, price, publication_year):\n",
        "    self.name = name\n",
        "    self.pages = pages\n",
        "    self.price = price\n",
        "    self.publication_year = publication_year\n",
        "  def qp(self):\n",
        "    a = ProgrammingBook.q(self)\n",
        "    t = datetime.now().year\n",
        "    return a-0.2*(t - self.publication_year)\n",
        "                    \n",
        "\n",
        "try:\n",
        "  name = input('Введите название книги по программированию')\n",
        "  pages = int(input('Введите количество страниц'))\n",
        "  price = int(input('Введите стоимость книги'))\n",
        "  publication_year = int(input('Введите год издания'))\n",
        "  book2 = ProgrammingBook(name, pages, price, publication_year)\n",
        "  print(\"Результат работы функции: \",book2.qp())\n",
        "except ValueError:\n",
        "  print('Проверьте данные!')\n",
        "except ZeroDivisionError:\n",
        "  print('На ноль делить нельзя!')\n",
        "\n"
      ]
    },
    {
      "cell_type": "code",
      "source": [],
      "metadata": {
        "id": "6oN87v2v2s53"
      },
      "execution_count": null,
      "outputs": []
    }
  ]
}