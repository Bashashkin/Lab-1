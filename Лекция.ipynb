{
  "nbformat": 4,
  "nbformat_minor": 0,
  "metadata": {
    "colab": {
      "provenance": [],
      "authorship_tag": "ABX9TyPK1JnIRjfbj2adB0LeKl6n",
      "include_colab_link": true
    },
    "kernelspec": {
      "name": "python3",
      "display_name": "Python 3"
    },
    "language_info": {
      "name": "python"
    }
  },
  "cells": [
    {
      "cell_type": "markdown",
      "metadata": {
        "id": "view-in-github",
        "colab_type": "text"
      },
      "source": [
        "<a href=\"https://colab.research.google.com/github/Bashashkin/Lab-1/blob/main/%D0%9B%D0%B5%D0%BA%D1%86%D0%B8%D1%8F.ipynb\" target=\"_parent\"><img src=\"https://colab.research.google.com/assets/colab-badge.svg\" alt=\"Open In Colab\"/></a>"
      ]
    },
    {
      "cell_type": "markdown",
      "source": [
        "#PEP8\n",
        "Нужен для улчшения читабельности кода. Это правила написания кода.\n",
        "\n",
        "Форматирование кода:\n"
      ],
      "metadata": {
        "id": "DXnwpKZmZVuF"
      }
    },
    {
      "cell_type": "code",
      "execution_count": null,
      "metadata": {
        "id": "3_t9rGs2Y5pG"
      },
      "outputs": [],
      "source": [
        "# Correct\n",
        "\n",
        "def long_func_name(var_one,var_two\n",
        "                   var_three,var_four)\n",
        "my_list = [\n",
        "    1, 2, 3\n",
        "    4, 5, 6,\n",
        "    ]\n",
        "\n",
        "income = (abc\n",
        "          + acb\n",
        "          + abv\n",
        "          - adv\n",
        ")\n"
      ]
    },
    {
      "cell_type": "markdown",
      "source": [
        "# Пробелы"
      ],
      "metadata": {
        "id": "--jt2V1QmN4J"
      }
    },
    {
      "cell_type": "code",
      "source": [
        "spam(ham[1], {eggs: 2})\n",
        "\n",
        "i = i + 1\n",
        "submitted += 1\n",
        "x = x*2 - 1\n",
        "c = (a+b) * (a-b)\n"
      ],
      "metadata": {
        "id": "YzAoM_CRmMEO"
      },
      "execution_count": null,
      "outputs": []
    },
    {
      "cell_type": "markdown",
      "source": [
        "# Стили"
      ],
      "metadata": {
        "id": "UX2C_5SKmVqI"
      }
    },
    {
      "cell_type": "code",
      "source": [
        "# UPPERCASE\n",
        "# lowercase\n",
        "# CapitalizedWords(слова с заглавными буквами)\n",
        "# mixedCase"
      ],
      "metadata": {
        "id": "CEe66qrvmTcq"
      },
      "execution_count": null,
      "outputs": []
    },
    {
      "cell_type": "markdown",
      "source": [
        "# Подчеркивания\n"
      ],
      "metadata": {
        "id": "jrYexexcmcpk"
      }
    },
    {
      "cell_type": "code",
      "source": [
        "#_var(подчеркивание перед переменной - только для внутренего использвания)\n",
        "\n",
        "# Одиночное подчеркивание для несущественных переменных\n",
        "\n",
        "for _ in range(3):\n",
        "  print(\"Hello\")\n",
        "\n",
        "car = ('red', 'auto', 12, 3812.4)\n",
        "color, _, _, 123\n",
        "\n",
        "# Виды ошибок\n",
        "\n",
        "# Синтаксчические\n",
        "# КритическиеЮ не позволяющие продлжить работу\n",
        "# Рядовые ошибки, с которыми программа не работает"
      ],
      "metadata": {
        "id": "PEG39nNDmaIZ"
      },
      "execution_count": null,
      "outputs": []
    },
    {
      "cell_type": "markdown",
      "source": [
        "# Синтаксис исключений"
      ],
      "metadata": {
        "id": "odMTEqd5mfsQ"
      }
    },
    {
      "cell_type": "code",
      "source": [
        "filename = '123'\n",
        "try:\n",
        "  df = open(filename, 'r')\n",
        "except FileNotFoundError:\n",
        "  print(\"File %s does not exist\" % filename)"
      ],
      "metadata": {
        "colab": {
          "base_uri": "https://localhost:8080/"
        },
        "id": "l7n-d6zMmeL_",
        "outputId": "9ec078c3-9acb-47aa-84ca-1873b5d6d8af"
      },
      "execution_count": null,
      "outputs": [
        {
          "output_type": "stream",
          "name": "stdout",
          "text": [
            "File 123 does not exist\n"
          ]
        }
      ]
    },
    {
      "cell_type": "code",
      "source": [
        "filename = \"123\"\n",
        "try:\n",
        "  x = 1\n",
        "  df = open(filename, \"r\")\n",
        "except FileNotFoundError:\n",
        "  print(\"File %s does not exist\" % filename)\n",
        "else:\n",
        "  "
      ],
      "metadata": {
        "id": "NCmh46MznUt7"
      },
      "execution_count": null,
      "outputs": []
    },
    {
      "cell_type": "code",
      "source": [
        "# Assertion(если мы хотим сломать программу, которая не работает)\n"
      ],
      "metadata": {
        "id": "3IyRdhOooKaV"
      },
      "execution_count": null,
      "outputs": []
    },
    {
      "cell_type": "code",
      "source": [
        "f = open('hello.txt', 'w')\n",
        "f.write('hello')\n",
        "f.close()"
      ],
      "metadata": {
        "id": "hZEDhKqzp1Hw"
      },
      "execution_count": null,
      "outputs": []
    },
    {
      "cell_type": "code",
      "source": [
        "f = open('hello.txt', 'w')\n",
        "try:\n",
        "  f.write('hello')\n",
        "finally:\n",
        "  f.close()"
      ],
      "metadata": {
        "id": "k3NlEBxDp_Tc"
      },
      "execution_count": null,
      "outputs": []
    }
  ]
}