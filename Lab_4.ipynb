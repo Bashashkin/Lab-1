{
  "nbformat": 4,
  "nbformat_minor": 0,
  "metadata": {
    "colab": {
      "provenance": [],
      "collapsed_sections": [],
      "authorship_tag": "ABX9TyN+PnWOsWNLJeDm27ngMN8j",
      "include_colab_link": true
    },
    "kernelspec": {
      "name": "python3",
      "display_name": "Python 3"
    },
    "language_info": {
      "name": "python"
    }
  },
  "cells": [
    {
      "cell_type": "markdown",
      "metadata": {
        "id": "view-in-github",
        "colab_type": "text"
      },
      "source": [
        "<a href=\"https://colab.research.google.com/github/Bashashkin/Lab-1/blob/main/Lab_4.ipynb\" target=\"_parent\"><img src=\"https://colab.research.google.com/assets/colab-badge.svg\" alt=\"Open In Colab\"/></a>"
      ]
    },
    {
      "cell_type": "markdown",
      "source": [
        "# № 4.2.1\n",
        "\n",
        "Рассчитать значение f при заданном значении вещественного числа x:\n",
        "\n",
        "![image.png](data:image/png;base64,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)\n",
        "\n",
        "При выводе на экран оставьте 2 знака после запятой."
      ],
      "metadata": {
        "id": "4d_9Z5kdZ2F6"
      }
    },
    {
      "cell_type": "code",
      "execution_count": null,
      "metadata": {
        "colab": {
          "base_uri": "https://localhost:8080/"
        },
        "id": "M0tHQSu6Zx3U",
        "outputId": "efda30c5-c14c-43d8-fef2-b8f847d9f2af"
      },
      "outputs": [
        {
          "output_type": "stream",
          "name": "stdout",
          "text": [
            "Введите x-1\n",
            "-1.0\n"
          ]
        }
      ],
      "source": [
        "# Программирование на языке высокого уровня (Python).\n",
        "# https://www.yuripetrov.ru/edu/python\n",
        "# Задание task_04_02_01.\n",
        "#\n",
        "# Выполнил: Башашкин А.М\n",
        "# Группа: АДЭУ-221\n",
        "# E-mail: alesha_2010@list.ru\n",
        "\n",
        "x=int(input('Введите x'))\n",
        "if x>=0:\n",
        "    f = x**(1/2) + x**2\n",
        "else:\n",
        "    f = 1/x\n",
        "f = round(f,2)\n",
        "print(f)\n",
        "\n",
        "# --------------\n",
        "# Пример вывода:\n",
        "#\n",
        "# Введите число x: -10\n",
        "# f = -0.10\n",
        "\n",
        "# Введите число x: 0\n",
        "# f = 0.00\n",
        "\n",
        "# Введите число x: 10\n",
        "# f = 103.16\n",
        "\n"
      ]
    },
    {
      "cell_type": "markdown",
      "source": [
        "# № 4.2.2\n",
        "Определите максимальное и минимальное значения из двух различных целых чисел."
      ],
      "metadata": {
        "id": "COgH36Kda9IB"
      }
    },
    {
      "cell_type": "code",
      "source": [
        "# Программирование на языке высокого уровня (Python).\n",
        "# https://www.yuripetrov.ru/edu/python\n",
        "# Задание task_04_02_02.\n",
        "#\n",
        "# Выполнил: Башашкин А.М\n",
        "# Группа: АДЭУ-221\n",
        "# E-mail: alesha_2010@list.ru\n",
        "\n",
        "a = int(input('Введите значение а'))\n",
        "b = int(input('Введите значение b'))\n",
        "if a>b:\n",
        "    print ('Максимум: ',a)\n",
        "elif a == b:\n",
        "    print ('значения равны')\n",
        "else:\n",
        "    print ('Максимум: ', b, 'Минимум:',a)\n",
        "# --------------\n",
        "# Пример вывода:\n",
        "#\n",
        "# Введите первое число: 1\n",
        "# Введите второе число: 2\n",
        "# Максимум: 2, минимум: 1\n",
        "# Введите первое число: 5\n",
        "# Введите второе число: 5\n",
        "# Максимум: 5, минимум: 5\n",
        "# Введите первое число: 100\n",
        "# Введите второе число: -1\n",
        "# Максимум: 100, минимум: -1"
      ],
      "metadata": {
        "colab": {
          "base_uri": "https://localhost:8080/"
        },
        "id": "wldXYgpobDOo",
        "outputId": "565759d6-ed5f-4b7b-dd64-89ed80bcbe65"
      },
      "execution_count": null,
      "outputs": [
        {
          "output_type": "stream",
          "name": "stdout",
          "text": [
            "Введите значение а10\n",
            "Введите значение b20\n",
            "Максимум:  20 Минимум: 10\n"
          ]
        }
      ]
    },
    {
      "cell_type": "markdown",
      "source": [
        "# № 4.2.3\n",
        "\n",
        "Вася пытается высунуть голову в форточку размерами a и b см. Приняв условно, что его голова - круглая диаметром d см, определите, сможет ли Вася сделать это. Для прохождения головы в форточку необходим зазор в 1 см. с каждой стороны.\n",
        "\n",
        "Все величины - целые числа."
      ],
      "metadata": {
        "id": "t52kvebkcAmL"
      }
    },
    {
      "cell_type": "code",
      "source": [
        "# Программирование на языке высокого уровня (Python).\n",
        "# https://www.yuripetrov.ru/edu/python\n",
        "# Задание task_04_02_03.\n",
        "#\n",
        "# Выполнил: Башашкин А.М\n",
        "# Группа: АДЭУ-221\n",
        "# E-mail: alesha_2010@list.ru\n",
        "\n",
        "a = int(input('Ширина форточки = '))\n",
        "b = int(input('Высота форточки = '))\n",
        "d = int(input('Диаметр головы = '))\n",
        "\n",
        "# Введенные числа должны быть положительными, если так - осуществляем\n",
        "# расчет, иначе выводим \"Проверьте ввод\"\n",
        "if a>0 and b>0 and d>0:\n",
        "    fix = 1  # Зазор\n",
        "    if a >= fix + d and b >= fix + d:\n",
        "      print('Да')\n",
        "    else:\n",
        "      print('Нет')\n",
        "else:\n",
        "    print('Проверьте ввод')\n",
        "# --------------\n",
        "# Пример вывода:\n",
        "#\n",
        "# Ширина форточки: 5\n",
        "# Высота форточки: 6\n",
        "# Диаметр головы: 6\n",
        "# Нет\n",
        "\n",
        "# Ширина форточки: 6\n",
        "# Высота форточки: 7\n",
        "# Диаметр головы: 4\n",
        "# Да\n"
      ],
      "metadata": {
        "colab": {
          "base_uri": "https://localhost:8080/"
        },
        "id": "YA2nhHygcG1H",
        "outputId": "45510588-9967-416a-8636-d8ff0ed9c950"
      },
      "execution_count": null,
      "outputs": [
        {
          "output_type": "stream",
          "name": "stdout",
          "text": [
            "Ширина форточки = 5\n",
            "Высота форточки = 6\n",
            "Диаметр головы = 6\n",
            "Нет\n"
          ]
        }
      ]
    },
    {
      "cell_type": "markdown",
      "source": [
        "# № 4.2.4\n",
        "\n",
        "Известны год и номер месяца сегодняшнего дня, а также год и номер месяца рождения человека (нумерация месяцев с 1: январь - 1 и т.д.). Определите возраст человека (число полных лет)."
      ],
      "metadata": {
        "id": "TwTpCc6EeG0o"
      }
    },
    {
      "cell_type": "code",
      "source": [
        "# Программирование на языке высокого уровня (Python).\n",
        "# https://www.yuripetrov.ru/edu/python\n",
        "# Задание task_04_02_04.\n",
        "#\n",
        "# Выполнил: Башашкин А.М\n",
        "# Группа: АДЭУ-221\n",
        "# E-mail: alesha_2010@list.ru\n",
        "\n",
        "\n",
        "year_today = int(input('Введите текущий год: '))\n",
        "month_today = int(input('Введите текущий месяц: '))\n",
        "year = int(input('Введит год рождения: '))\n",
        "month = int(input('Введите месяц рождения: '))\n",
        "if month_today >= month:\n",
        "  age = year_today - year\n",
        "else:\n",
        "  age = year_today - year - 1\n",
        "print(\"Число полных лет: \", age)\n",
        "\n",
        "# --------------\n",
        "# Пример вывода:\n",
        "#\n",
        "# Введите текущий год: 2017\n",
        "# Введите текущий месяц: 5\n",
        "# Введите год рождения: 2000\n",
        "# Введите месяц рождения: 1\n",
        "# Число полных лет:  17\n",
        "#\n",
        "# Введите текущий год: 2015\n",
        "# Введите текущий месяц: 6\n",
        "# Введите год рождения: 2010\n",
        "# Введите месяц рождения: 8\n",
        "# Число полных лет:  4\n",
        "#\n",
        "# Введите текущий год: 2020\n",
        "# Введите текущий месяц: 5\n",
        "# Введите год рождения: 2000\n",
        "# Введите месяц рождения: 5\n",
        "# Число полных лет:  20\n"
      ],
      "metadata": {
        "colab": {
          "base_uri": "https://localhost:8080/"
        },
        "id": "_Cj6-9EQeIxZ",
        "outputId": "9c5e84a5-efbc-4fd2-bd71-d4e00f95d976"
      },
      "execution_count": null,
      "outputs": [
        {
          "output_type": "stream",
          "name": "stdout",
          "text": [
            "Введите текущий год: 2020\n",
            "Введите текущий месяц: 5\n",
            "Введит год рождения: 2000\n",
            "Введите месяц рождения: 5\n",
            "Число полных лет:  20\n"
          ]
        }
      ]
    },
    {
      "cell_type": "markdown",
      "source": [
        "# № 4.2.5\n",
        "\n",
        "Дана точка с целыми ненулевыми координатами (x;y). Определить номер четверти координатной плоскости, которой она принадлежит."
      ],
      "metadata": {
        "id": "3U9LzRwOkdUL"
      }
    },
    {
      "cell_type": "code",
      "source": [
        "# Программирование на языке высокого уровня (Python).\n",
        "# https://www.yuripetrov.ru/edu/python\n",
        "# Задание task_04_02_05.\n",
        "#\n",
        "# Выполнил: Башашкин А.М\n",
        "# Группа: АДЭУ-221\n",
        "# E-mail: alesha_2010@list.ru\n",
        "\n",
        "\n",
        "\n",
        "x = int(input('Введите координату x: '))\n",
        "y = int(input('Введите координату y: ')) \n",
        "\n",
        "if x>0 and y>0:\n",
        "    print(\"1-я четверть\")\n",
        "elif x<0 and y>0:\n",
        "  print(\"2-я четверть\")\n",
        "elif x<0 and y<0:\n",
        "  print(\"3-я четверть\")\n",
        "elif x>0 and y<0:\n",
        "  print(\"4-я четверть\")\n",
        "\n",
        "# --------------\n",
        "# Пример вывода:\n",
        "#\n",
        "# Введите координату x: 5\n",
        "# Введите координату y: 7\n",
        "# 1-я четверть\n"
      ],
      "metadata": {
        "colab": {
          "base_uri": "https://localhost:8080/"
        },
        "id": "-tpMcVbxkl1w",
        "outputId": "86a999cc-82c5-4da6-c415-969f3436fbb0"
      },
      "execution_count": null,
      "outputs": [
        {
          "output_type": "stream",
          "name": "stdout",
          "text": [
            "Введите координату x: -2\n",
            "Введите координату y: 10\n",
            "2-я четверть\n"
          ]
        }
      ]
    },
    {
      "cell_type": "markdown",
      "source": [
        "# № 4.2.6\n",
        "\n",
        "Даны вещественные числа a, b, c (a≠0).\n",
        "\n",
        "Решите уравнение \n",
        "![image.png](data:image/png;base64,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)\n",
        " При выводе значений оставьте 1 знак после запятой"
      ],
      "metadata": {
        "id": "S9PwhG87lVx9"
      }
    },
    {
      "cell_type": "code",
      "source": [
        "# Программирование на языке высокого уровня (Python).\n",
        "# https://www.yuripetrov.ru/edu/python\n",
        "# Задание task_04_02_06.\n",
        "#\n",
        "# Выполнил: Башашкин А.М\n",
        "# Группа: АДЭУ-221\n",
        "# E-mail: alesha_2010@list.ru\n",
        "\n",
        "\n",
        "a = float(input('Введите значение a: '))\n",
        "b = float(input('Введите значение b: '))\n",
        "c = float(input('Введите значение c: '))\n",
        "\n",
        "d = (b**2)-(4*a*c)\n",
        "if d<0:\n",
        "    print('Нет решения.')\n",
        "elif d==0:\n",
        "    x1 = (-1*b)/2*a\n",
        "    x1 = round(x1,1)\n",
        "    print('x = ', x1)\n",
        "else:\n",
        "    x2 = ((-1*b)+(d**(1/2)))/2*a\n",
        "    x1 = ((-1*b)-(d**(1/2)))/2*a\n",
        "    x1 = round(x1,1)\n",
        "    x2 = round(x2,1)\n",
        "    print('x1 =',x1,'x2 =',x2)\n",
        "  \n",
        "# Вывод решения в зависимости от значения дискриминанта\n",
        "# При выводе значений оставьте 1 знак после запятой\n",
        "# Удалите комментарий и допишите код\n",
        "\n",
        "# --------------\n",
        "# Пример вывода:\n",
        "#\n",
        "# a = 1\n",
        "# b = 2\n",
        "# c = 3\n",
        "# Решений нет\n",
        "#\n",
        "# a = 1\n",
        "# b = 2\n",
        "# c = 1\n",
        "# x = -1.0\n",
        "#\n",
        "# a = 1\n",
        "# b = 3\n",
        "# c = -4\n",
        "# x1 = -4.0, x2 = 1.0\n",
        "\n"
      ],
      "metadata": {
        "colab": {
          "base_uri": "https://localhost:8080/"
        },
        "id": "77-Fdks1lfgO",
        "outputId": "198788cc-1e39-48bf-d0d8-5089585ba1a8"
      },
      "execution_count": null,
      "outputs": [
        {
          "output_type": "stream",
          "name": "stdout",
          "text": [
            "Введите значение a: 1\n",
            "Введите значение b: 3\n",
            "Введите значение c: -4\n",
            "x1 = -4.0 x2 = 1.0\n"
          ]
        }
      ]
    },
    {
      "cell_type": "markdown",
      "source": [],
      "metadata": {
        "id": "pHBvurs5r2p_"
      }
    }
  ]
}