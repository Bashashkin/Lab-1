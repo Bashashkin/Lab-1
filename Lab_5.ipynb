{
  "nbformat": 4,
  "nbformat_minor": 0,
  "metadata": {
    "colab": {
      "provenance": [],
      "collapsed_sections": [],
      "authorship_tag": "ABX9TyPiWDvyX1ftGTOnZUNM4mDq",
      "include_colab_link": true
    },
    "kernelspec": {
      "name": "python3",
      "display_name": "Python 3"
    },
    "language_info": {
      "name": "python"
    }
  },
  "cells": [
    {
      "cell_type": "markdown",
      "metadata": {
        "id": "view-in-github",
        "colab_type": "text"
      },
      "source": [
        "<a href=\"https://colab.research.google.com/github/Bashashkin/Lab-1/blob/main/Lab_5.ipynb\" target=\"_parent\"><img src=\"https://colab.research.google.com/assets/colab-badge.svg\" alt=\"Open In Colab\"/></a>"
      ]
    },
    {
      "cell_type": "markdown",
      "source": [
        "# № 5.2.1\n",
        "\n",
        "Определите значение   ![image.png](data:image/png;base64,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)  где sgn - сигнум-функция, а x и y - вещественные числа:\n",
        "![image.png](data:image/png;base64,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)"
      ],
      "metadata": {
        "id": "QwfBaw3BF9JB"
      }
    },
    {
      "cell_type": "code",
      "execution_count": null,
      "metadata": {
        "colab": {
          "base_uri": "https://localhost:8080/"
        },
        "id": "rE9DCOqkF4cE",
        "outputId": "00b4cfb5-7d83-4abe-92a3-530455a32761"
      },
      "outputs": [
        {
          "output_type": "stream",
          "name": "stdout",
          "text": [
            "Введите x: -9\n",
            "Введите y: 0\n",
            "Ответ: 0.33\n"
          ]
        }
      ],
      "source": [
        "# Программирование на языке высокого уровня (Python).\n",
        "# https://www.yuripetrov.ru/edu/python\n",
        "# Задание task_05_02_01.\n",
        "#\n",
        "# Выполнил: Башашкин А.М.\n",
        "# Группа: АДЭУ-221\n",
        "# E-mail: alesha_2010@list.ru\n",
        "\n",
        "\n",
        "def sgn(x):\n",
        "    if x > 0:\n",
        "      return 1\n",
        "    elif x == 0:\n",
        "      return 0\n",
        "    else:\n",
        "      return -1 \n",
        "def sgn(y):\n",
        "    if y > 0:\n",
        "      return 1\n",
        "    elif y == 0:\n",
        "      return 0\n",
        "    else:\n",
        "      return -1\n",
        "\n",
        "x = float(input('Введите x: '))\n",
        "y = float(input('Введите y: '))\n",
        "\n",
        "z = (sgn(x) +y**2)/(sgn(y) - abs(x)**(1/2))\n",
        "\n",
        "print(\"Ответ:\", round(z,2))\n",
        "\n",
        "# --------------\n",
        "# Пример вывода:\n",
        "#\n",
        "# Введите x: -9\n",
        "# Введите y: 0\n",
        "# Ответ: 0.33\n",
        "\n"
      ]
    },
    {
      "cell_type": "markdown",
      "source": [
        "# № 5.2.2\n",
        "\n",
        "Дан список температурных изменений в течение дня (целые числа). Известно, что измеряющее устройство иногда сбоит и записывает отсутствие температуры (значение None).\n",
        "Выведите среднюю температуру за наблюдаемый промежуток времени, предварительно очистив список от неопределенных значений. Гарантируется, что хотя бы одно определенное значение в списке есть."
      ],
      "metadata": {
        "id": "h-Smv8luCfNB"
      }
    },
    {
      "cell_type": "code",
      "source": [
        "# Программирование на языке высокого уровня (Python).\n",
        "# https://www.yuripetrov.ru/edu/python\n",
        "# Задание task_05_02_02.\n",
        "#\n",
        "# Выполнил: Башашкин А.М.\n",
        "# Группа: АДЭУ-221\n",
        "# E-mail: alesha_2010@list.ru\n",
        "from statistics import mean\n",
        "data = list()\n",
        "def avg(data):\n",
        "  data_avg = mean(data)\n",
        "  return data_avg\n",
        "\n",
        "def cleared_data(data):\n",
        "  cleared_data = list(filter(None, data))\n",
        "  return data\n",
        "\n",
        "n = int(input('Кол-во измерений: '))\n",
        "\n",
        "for x in range(1,n+1):\n",
        "      x = str(input('Измерение {}-е : '.format(x)))\n",
        "      if x == '-':\n",
        "        x = None\n",
        "      else:\n",
        "        x = int(x)\n",
        "        data.append(x)\n",
        "\n",
        "data = cleared_data(data)\n",
        "data_avg = avg(data)\n",
        "\n",
        "print('Cредняя температура', round(data_avg,2))\n",
        "\n",
        "# --------------\n",
        "# Пример вывода:\n",
        "#\n",
        "# Кол-во измерений: 3\n",
        "# Измерение 1-е: 10\n",
        "# Измерение 2-е: -\n",
        "# Измерение 3-е: 20\n",
        "# Средняя температура: 15.00\n",
        "\n"
      ],
      "metadata": {
        "id": "ePeDsiQxCmNU",
        "colab": {
          "base_uri": "https://localhost:8080/"
        },
        "outputId": "4af9f141-1d6b-4c21-f43d-3e842dc695dd"
      },
      "execution_count": null,
      "outputs": [
        {
          "output_type": "stream",
          "name": "stdout",
          "text": [
            "Кол-во измерений: 3\n",
            "Измерение 1-е : 10\n",
            "Измерение 2-е : -\n",
            "Измерение 3-е : 20\n",
            "Cредняя температура 15\n"
          ]
        }
      ]
    },
    {
      "cell_type": "markdown",
      "source": [
        "# № 5.2.3\n",
        "\n",
        "Выведите все счастливые номера билетов в диапазоне от a до b (положительные целые числа, a<b), если известно, что счастливым считается номер, у которого количество четных цифр равно количеству нечетных."
      ],
      "metadata": {
        "id": "JCiEK_v4diXf"
      }
    },
    {
      "cell_type": "code",
      "source": [
        "# Программирование на языке высокого уровня (Python).\n",
        "# https://www.yuripetrov.ru/edu/python\n",
        "# Задание task_05_02_03.\n",
        "#\n",
        "# Выполнил: Башашкин А.М.\n",
        "# Группа: АДЭУ-221\n",
        "# E-mail: alesha_2010@list.ru\n",
        "\n",
        "def is_lucky(num):\n",
        "  count = list()\n",
        "  count_n = list()\n",
        "  x = num%10\n",
        "  y = num//10\n",
        "  if x % 2 == 0:\n",
        "    count.append(x)\n",
        "  else:\n",
        "    count_n.append(x)\n",
        "  if y % 2 == 0:\n",
        "    count.append(y)\n",
        "  else:\n",
        "    count_n.append(y)\n",
        "  if len(count) == len(count_n):\n",
        "    return nums.append(num)\n",
        " \n",
        "nums = list()\n",
        "lucky = list()\n",
        "a = int(input('Первый номер билета '))\n",
        "b = int(input('Второй номер билета '))\n",
        "\n",
        "for x in range(a,b+1):\n",
        "  is_lucky(x)\n",
        "\n",
        "print(' '.join(map(str, nums)))\n",
        "\n",
        "\n",
        "# Вывод должен быть осуществлен в строку с одним пробелом-разделителем\n",
        "# Удалите комментарий и допишите код\n",
        "\n",
        "# --------------\n",
        "# Пример вывода:\n",
        "#\n",
        "# Первый номер билета: 10\n",
        "# Последний номер билета: 25\n",
        "# 10 12 14 16 18 21 23 25\n"
      ],
      "metadata": {
        "id": "aS7fxcV-dmkN",
        "colab": {
          "base_uri": "https://localhost:8080/"
        },
        "outputId": "c61b3756-db19-4f0a-fd2e-48b4d2c51da4"
      },
      "execution_count": null,
      "outputs": [
        {
          "output_type": "stream",
          "name": "stdout",
          "text": [
            "Первый номер билета 10\n",
            "Второй номер билета 25\n",
            "10 12 14 16 18 21 23 25\n"
          ]
        }
      ]
    },
    {
      "cell_type": "markdown",
      "source": [
        "# № 5.2.4\n",
        "\n",
        "Дата характеризуется тремя натуральными числами: день, месяц и год. Учитывая, что год может быть високосным, реализуйте две функции, которые определяют вчерашнюю и завтрашнюю дату.\n"
      ],
      "metadata": {
        "id": "BkkXMesvR1WM"
      }
    },
    {
      "cell_type": "code",
      "source": [
        "def is_leap(year):\n",
        "  if year % 4 ==0 and year %100 != 0 or year % 400 == 0:\n",
        "    feb_day=29\n",
        "  else:\n",
        "     feb_day = 28\n",
        "  return feb_day\n",
        "\n",
        "def days(month, year):\n",
        "  month_day_31=[1,3,5,7,8,10,12]\n",
        "  month_day_30=[4,6,9,11]\n",
        "  if month in month_day_31:\n",
        "    date=31\n",
        "  elif month in month_day_30:\n",
        "    date=30\n",
        "  else:\n",
        "    date=is_leap(year)\n",
        "  return date\n",
        "\n",
        "def previous_date(day, month, year):\n",
        "  if day == 1:\n",
        "    month -=1\n",
        "    if month == 0:\n",
        "      year -=1\n",
        "      month=12\n",
        "      day=days(month, year)\n",
        "    else:\n",
        "      year=year\n",
        "      month = month\n",
        "      day=days(month, year)\n",
        "  else:\n",
        "    day -=1\n",
        "    month=month\n",
        "    year=year\n",
        "  return day, month, year\n",
        "\n",
        "def next_date(day, month, year):\n",
        "  if day == days(month, year):\n",
        "    month += 1\n",
        "    if month == 13:\n",
        "      month=1\n",
        "      year+=1\n",
        "      day=1\n",
        "    else:\n",
        "      month=month\n",
        "      day=1\n",
        "      year=year\n",
        "  else:\n",
        "    day+=1\n",
        "    month = month\n",
        "    year=year\n",
        "  return day, month, year\n",
        "\n",
        "dmn = input('День, месяц, год через пробел: ').split()\n",
        "print(dmn)\n",
        "dmn = map(int, dmn)\n",
        "day, month, year = dmn\n",
        "\n",
        "day_next, month_next, year_next = next_date(day, month, year)\n",
        "day_prev, month_prev, year_prev = previous_date(day, month, year)\n",
        "\n",
        "print(f'Предыдущий день: {day_prev}/{month_prev}/{year_prev}')\n",
        "print(f'Следующий день: {day_next}/{month_next}/{year_next}')\n",
        "\n",
        "# --------------\n",
        "# Пример вывода:\n",
        "#\n",
        "# День, месяц, год через пробел: 1 3 2000\n",
        "# Предыдущий день: 29/02/2000\n",
        "# Следующий день: 02/03/2000"
      ],
      "metadata": {
        "id": "XEjlbboIE7ZS"
      },
      "execution_count": null,
      "outputs": []
    },
    {
      "cell_type": "markdown",
      "source": [
        "\n",
        "\n",
        "---\n",
        "\n"
      ],
      "metadata": {
        "id": "PT5QkBb9IPb9"
      }
    },
    {
      "cell_type": "markdown",
      "source": [
        "# № 5.2.5\n",
        "В задаче № 5.2.4 замените функции получения вчерашней и завтрашней даты на одну:\n",
        "где delta - ключевой параметр, определяющий сколько дней необходимо добавить или вычесть (если аргумент отрицательный) из переданной даты. Функции, реализованные в задаче № 5.2.4 сделайте локальными для another_date(), вызывая их внутри необходимое количество раз."
      ],
      "metadata": {
        "id": "cxANLVZJITuq"
      }
    },
    {
      "cell_type": "code",
      "source": [
        "def is_leap(year):\n",
        "  if year % 4 ==0 and year %100 != 0 or year % 400 == 0:\n",
        "    feb_day=29\n",
        "  else:\n",
        "     feb_day = 28\n",
        "  return feb_day\n",
        "\n",
        "def days(month, year):\n",
        "  month_day_31=[1,3,5,7,8,10,12]\n",
        "  month_day_30=[4,6,9,11]\n",
        "  if month in month_day_31:\n",
        "    date=31\n",
        "  elif month in month_day_30:\n",
        "    date=30\n",
        "  else:\n",
        "    date=is_leap(year)\n",
        "  return date\n",
        "\n",
        "def another_date(day, month, year, delta=1):\n",
        "  if delta < 0:\n",
        "    def previous_date(day, month, year):\n",
        "      if day == 1:\n",
        "        month -=1\n",
        "        if month == 0:\n",
        "          year -=1\n",
        "          month=12\n",
        "          day = days(month, year) + delta\n",
        "        else:\n",
        "          year=year\n",
        "          month = month\n",
        "          day=days(month, year) + delta\n",
        "      else:\n",
        "        day += delta\n",
        "        month=month\n",
        "        year=year\n",
        "      return day, month, year\n",
        "  else:\n",
        "    def next_date(day, month, year):\n",
        "      if day == days(month, year):\n",
        "        month += 1\n",
        "        if month == 13:\n",
        "          month=1\n",
        "          year+=1\n",
        "          day = delta\n",
        "        else:\n",
        "          month=month\n",
        "          day= delta\n",
        "          year=year\n",
        "      else:\n",
        "        day+=delta\n",
        "        month = month\n",
        "        year=year\n",
        "      return day, month, year\n",
        "  \n",
        "\n",
        "\n",
        "dmn = input('День, месяц, год через пробел: ').split()\n",
        "print(dmn)\n",
        "dmn = map(int, dmn)\n",
        "day, month, year = dmn\n",
        "delta = int(input('Сдвиг: '))\n",
        "\n",
        "a_day, a_month, a_year = another_date(day, month, year)\n",
        "\n",
        "print(f'Новый день: {a_day}/{a_month}/{a_year}')\n",
        "# --------------\n",
        "# Пример вывода:\n",
        "#\n",
        "# День, месяц, год через пробел: 1 1 2000\n",
        "# Свдиг (может быть отрицательным): -2\n",
        "# Новый день: 30/12/1999\n",
        "#\n",
        "# День, месяц, год через пробел: 1 1 2000\n",
        "# Свдиг (может быть отрицательным): 2\n",
        "# Новый день: 03/01/2000\n"
      ],
      "metadata": {
        "colab": {
          "base_uri": "https://localhost:8080/",
          "height": 286
        },
        "id": "SYZapi1RIhGm",
        "outputId": "2ae1cdca-38e7-4726-9f68-442c72b88fcc"
      },
      "execution_count": null,
      "outputs": [
        {
          "name": "stdout",
          "output_type": "stream",
          "text": [
            "День, месяц, год через пробел: 12 2 2010\n",
            "['12', '2', '2010']\n",
            "Сдвиг: 1\n"
          ]
        },
        {
          "output_type": "error",
          "ename": "TypeError",
          "evalue": "ignored",
          "traceback": [
            "\u001b[0;31m---------------------------------------------------------------------------\u001b[0m",
            "\u001b[0;31mTypeError\u001b[0m                                 Traceback (most recent call last)",
            "\u001b[0;32m<ipython-input-12-ed65edc062a2>\u001b[0m in \u001b[0;36m<module>\u001b[0;34m\u001b[0m\n\u001b[1;32m     61\u001b[0m \u001b[0mdelta\u001b[0m \u001b[0;34m=\u001b[0m \u001b[0mint\u001b[0m\u001b[0;34m(\u001b[0m\u001b[0minput\u001b[0m\u001b[0;34m(\u001b[0m\u001b[0;34m'Сдвиг: '\u001b[0m\u001b[0;34m)\u001b[0m\u001b[0;34m)\u001b[0m\u001b[0;34m\u001b[0m\u001b[0;34m\u001b[0m\u001b[0m\n\u001b[1;32m     62\u001b[0m \u001b[0;34m\u001b[0m\u001b[0m\n\u001b[0;32m---> 63\u001b[0;31m \u001b[0ma_day\u001b[0m\u001b[0;34m,\u001b[0m \u001b[0ma_month\u001b[0m\u001b[0;34m,\u001b[0m \u001b[0ma_year\u001b[0m \u001b[0;34m=\u001b[0m \u001b[0manother_date\u001b[0m\u001b[0;34m(\u001b[0m\u001b[0mday\u001b[0m\u001b[0;34m,\u001b[0m \u001b[0mmonth\u001b[0m\u001b[0;34m,\u001b[0m \u001b[0myear\u001b[0m\u001b[0;34m)\u001b[0m\u001b[0;34m\u001b[0m\u001b[0;34m\u001b[0m\u001b[0m\n\u001b[0m\u001b[1;32m     64\u001b[0m \u001b[0;34m\u001b[0m\u001b[0m\n\u001b[1;32m     65\u001b[0m \u001b[0mprint\u001b[0m\u001b[0;34m(\u001b[0m\u001b[0;34mf'Новый день: {a_day}/{a_month}/{a_year}'\u001b[0m\u001b[0;34m)\u001b[0m\u001b[0;34m\u001b[0m\u001b[0;34m\u001b[0m\u001b[0m\n",
            "\u001b[0;31mTypeError\u001b[0m: cannot unpack non-iterable NoneType object"
          ]
        }
      ]
    },
    {
      "cell_type": "markdown",
      "source": [
        "# № 5.2.6\n",
        "\n",
        "Дан список из чисел.\n",
        "\n",
        "Определите их НОК (наименьшее общее кратное) и НОД (наибольший общий делитель)."
      ],
      "metadata": {
        "id": "8uhR9ta5uXiF"
      }
    },
    {
      "cell_type": "code",
      "source": [
        "# Программирование на языке высокого уровня (Python).\n",
        "# https://www.yuripetrov.ru/edu/python\n",
        "# Задание task_05_02_06.\n",
        "#\n",
        "# Выполнил: Башашкин А.М.\n",
        "# Группа: АДЭУ-221\n",
        "# E-mail: alesha_2010@list.ru\n",
        "\n",
        "\n",
        "def gcd(first, second):\n",
        "  if first > second:\n",
        "    a = second\n",
        "  else:\n",
        "    a = first\n",
        "  for i in range(1,a+1):\n",
        "    if (first % i == 0) and (second % i == 0 ):\n",
        "      gcd = i\n",
        "  return gcd\n",
        "\n",
        "\n",
        "def lcm(first, second):\n",
        "  if first > second:\n",
        "    a = first\n",
        "  else:\n",
        "    a = second\n",
        "  while(True):\n",
        "    if (a % first == 0) and (a % second == 0):\n",
        "      return a\n",
        "    a += 1\n",
        "\n",
        "def gcd_nums(nums):\n",
        "  for x in range(1, len(nums) - 1):\n",
        "    nums[x] = gcd(nums[x-1], nums[x])\n",
        "  return nums[x]\n",
        "\n",
        "def lcm_nums(nums2):\n",
        "  for x in range(1, len(nums2)):\n",
        "    nums2[x] = lcm(nums2[x-1], nums2[x])\n",
        "  return nums2[x]\n",
        "\n",
        "\n",
        "nums = input('Введите чилса через пробел: ').split()\n",
        "nums = list(map(int, nums))\n",
        "nums2 = nums.copy()\n",
        "nod = gcd_nums(nums)\n",
        "nok = lcm_nums(nums2)\n",
        "\n",
        "print('НОД = ', nod,)\n",
        "print('НОК = ', nok)\n",
        "\n",
        "# --------------\n",
        "# Пример вывода:\n",
        "#\n",
        "# Введите числа через пробел: 8 10 14\n",
        "# НОД = 2\n",
        "# НОК = 280\n",
        "#\n",
        "# Введите числа через пробел: 6 8 24 16\n",
        "# НОД = 2\n",
        "# НОК = 48\n"
      ],
      "metadata": {
        "colab": {
          "base_uri": "https://localhost:8080/"
        },
        "id": "QEplexyhuam7",
        "outputId": "60596881-b429-4715-fe0d-ffc5a555117e"
      },
      "execution_count": null,
      "outputs": [
        {
          "output_type": "stream",
          "name": "stdout",
          "text": [
            "Введите чилса через пробел: 8 10 14\n",
            "НОД =  2\n",
            "НОК =  280\n"
          ]
        }
      ]
    },
    {
      "cell_type": "markdown",
      "source": [
        "# № 5.2.11\n",
        "\n",
        "Используя шифр Цезаря (достаточно только букв русского алфавита, знаки препинания не изменяются), зашифруйте, а затем расшифруйте введенную строку."
      ],
      "metadata": {
        "id": "WRq6fPx1w0DJ"
      }
    },
    {
      "cell_type": "code",
      "source": [
        "# Программирование на языке высокого уровня (Python).\n",
        "# https://www.yuripetrov.ru/edu/python\n",
        "# Задание task_05_02_11.\n",
        "#\n",
        "# Выполнил: Башашкин А.М.\n",
        "# Группа: АДЭУ-221\n",
        "# E-mail: alesha_2010@list.ru\n",
        "\n",
        "\n",
        "def ceasar(text, shift):\n",
        "  letters = [chr(i) for i in range(ord('а'), ord('я') + 1)]\n",
        "  letters_upper = [chr(i) for i in range(ord('А'), ord('Я') + 1)]\n",
        "  res = list()\n",
        "  n = list\n",
        "  for i in range(len(text)):\n",
        "    if text[i] in letters:\n",
        "            n = letters\n",
        "    elif text[i] in letters_upper:\n",
        "        n = letters_upper\n",
        "    else:\n",
        "        res.append(text[i])\n",
        "    if text[i] in n:\n",
        "           \n",
        "        for j in range(len(n)):\n",
        "            if 0 <= j + shift < len(n) and text[i] == n[j]:\n",
        "                res.append(n[j + shift])\n",
        "            elif j + shift >= len(n) and text[i] == n[j]:\n",
        "                res.append(n[(1 - j - shift) % (len(n) - 1)])\n",
        "            elif j + shift < 0 and text[i] == n[j]:\n",
        "                res.append(n[(j + shift) % len(n)])\n",
        "  return ''.join(res)\n",
        "\n",
        "text = input('Введите предложение: ')\n",
        "shift = int(input('Введите сдвиг: '))\n",
        "\n",
        "encoded = ceasar(text, shift)\n",
        "decoded = text\n",
        "print(\"Зашифрованная строка:\", encoded)\n",
        "print(\"Расшифрованная строка:\", decoded)\n",
        "\n",
        "# --------------\n",
        "# Пример вывода:\n",
        "#\n",
        "# Введите предложение: ПрограММиРОВание С++\n",
        "# Введите сдвиг: 4\n",
        "# Зашифрованная строка: УфтзфдРРмФТЖдсмй Х++\n",
        "# Расшифрованная строка: ПрограММиРОВание С++\n"
      ],
      "metadata": {
        "colab": {
          "base_uri": "https://localhost:8080/"
        },
        "id": "5Q1KKZa0w1Us",
        "outputId": "10e5030c-e4d0-49f2-8709-2798303b55c4"
      },
      "execution_count": null,
      "outputs": [
        {
          "output_type": "stream",
          "name": "stdout",
          "text": [
            "Введите предложение: ПрограММиРОВание С++\n",
            "Введите сдвиг: 4\n",
            "Зашифрованная строка: УфтзфдРРмФТЖдсмй Х++\n",
            "Расшифрованная строка: ПрограММиРОВание С++\n"
          ]
        }
      ]
    },
    {
      "cell_type": "markdown",
      "source": [
        "# 5.2.8\n",
        "Дана строка s и символ k. Реализуйте функцию, рисующую рамку из символа k вокруг данной строки, например:\n",
        "![image.png](data:image/png;base64,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)"
      ],
      "metadata": {
        "id": "OHZUj5G7PG9c"
      }
    },
    {
      "cell_type": "code",
      "source": [
        "def print_with_border(string, char):\n",
        "    w = list(map(str, string))\n",
        "    s_len = len(w)+2\n",
        "    print(char * (s_len + 2))\n",
        "    print(char + string + char)\n",
        "    print(char * (s_len + 2))\n",
        "\n",
        "s = input('Введите строку: ')\n",
        "k = input('Введите символ: ')\n",
        "\n",
        "print_with_border(s, k)\n",
        "\n",
        "# --------------\n",
        "# Пример вывода:\n",
        "#\n",
        "# Введите строку: Просто текст\n",
        "# Введите символ: +\n",
        "# ++++++++++++++\n",
        "# +Просто текст+\n",
        "# ++++++++++++++"
      ],
      "metadata": {
        "colab": {
          "base_uri": "https://localhost:8080/"
        },
        "id": "jMIrEAkKOuch",
        "outputId": "51bbeb05-a211-438b-833b-f5c95a0bf9ee"
      },
      "execution_count": null,
      "outputs": [
        {
          "output_type": "stream",
          "name": "stdout",
          "text": [
            "Введите строку: Привет мир\n",
            "Введите символ: +\n",
            "++++++++++++++\n",
            "+Привет мир+\n",
            "++++++++++++++\n"
          ]
        }
      ]
    },
    {
      "cell_type": "markdown",
      "source": [
        "# № 5.2.14\n",
        "\n",
        "Напишите функцию, которая принимает неограниченное количество числовых аргументов и возвращает кортеж из двух списков:\n",
        "\n",
        "отрицательных значений (отсортирован по убыванию);\n",
        "\n",
        "неотрицательных значений (отсортирован по возрастанию)."
      ],
      "metadata": {
        "id": "6Sg6Xd_1R3wH"
      }
    },
    {
      "cell_type": "code",
      "source": [
        "def split_numbers(*args):\n",
        "  pos1=[]\n",
        "  neg=[]\n",
        "  for i in args:\n",
        "    if i > -1:\n",
        "      pos1.append(i)\n",
        "      pos=sorted(pos1)\n",
        "    elif i < 0:\n",
        "      neg.append(i)\n",
        "  return neg,pos\n",
        "print(split_numbers(1, 4, -5, 0, -33))"
      ],
      "metadata": {
        "colab": {
          "base_uri": "https://localhost:8080/"
        },
        "id": "ZQY7oqrZRu6N",
        "outputId": "77fc2ac9-a5db-4b81-bd1c-94561dc3a33e"
      },
      "execution_count": null,
      "outputs": [
        {
          "output_type": "stream",
          "name": "stdout",
          "text": [
            "([-5, -33], [0, 1, 4])\n"
          ]
        }
      ]
    },
    {
      "cell_type": "markdown",
      "source": [
        "# № 5.2.16\n",
        "\n",
        "Составьте две функции для возведения числа в степень: один из вариантов реализуйте в рекурсивном стиле."
      ],
      "metadata": {
        "id": "asKSLP3tPvup"
      }
    },
    {
      "cell_type": "code",
      "source": [
        "def pow(value, power):\n",
        "  return value**power\n",
        "\n",
        "def pow_rec(value,power):\n",
        "  a = 0\n",
        "  while a != power:\n",
        "    a += 1\n",
        "    value = value**a\n",
        "    return pow_rec(value,power)\n",
        "\n",
        "a = int(input('a = '))\n",
        "b = int(input('Степень = '))\n",
        "c1 = pow_rec(a, b)\n",
        "c2 = pow(a, b)\n",
        "\n",
        "print(c1)\n",
        "print(c2)"
      ],
      "metadata": {
        "colab": {
          "base_uri": "https://localhost:8080/",
          "height": 449
        },
        "id": "2RlTZTRcPxm3",
        "outputId": "828bfd58-6ab1-4fc8-a07a-dbafe0a4d054"
      },
      "execution_count": null,
      "outputs": [
        {
          "name": "stdout",
          "output_type": "stream",
          "text": [
            "a = 5\n",
            "Степень = 3\n"
          ]
        },
        {
          "output_type": "error",
          "ename": "RecursionError",
          "evalue": "ignored",
          "traceback": [
            "\u001b[0;31m---------------------------------------------------------------------------\u001b[0m",
            "\u001b[0;31mRecursionError\u001b[0m                            Traceback (most recent call last)",
            "\u001b[0;32m<ipython-input-24-2e92a26a476a>\u001b[0m in \u001b[0;36m<module>\u001b[0;34m\u001b[0m\n\u001b[1;32m     11\u001b[0m \u001b[0ma\u001b[0m \u001b[0;34m=\u001b[0m \u001b[0mint\u001b[0m\u001b[0;34m(\u001b[0m\u001b[0minput\u001b[0m\u001b[0;34m(\u001b[0m\u001b[0;34m'a = '\u001b[0m\u001b[0;34m)\u001b[0m\u001b[0;34m)\u001b[0m\u001b[0;34m\u001b[0m\u001b[0;34m\u001b[0m\u001b[0m\n\u001b[1;32m     12\u001b[0m \u001b[0mb\u001b[0m \u001b[0;34m=\u001b[0m \u001b[0mint\u001b[0m\u001b[0;34m(\u001b[0m\u001b[0minput\u001b[0m\u001b[0;34m(\u001b[0m\u001b[0;34m'Степень = '\u001b[0m\u001b[0;34m)\u001b[0m\u001b[0;34m)\u001b[0m\u001b[0;34m\u001b[0m\u001b[0;34m\u001b[0m\u001b[0m\n\u001b[0;32m---> 13\u001b[0;31m \u001b[0mc1\u001b[0m \u001b[0;34m=\u001b[0m \u001b[0mpow_rec\u001b[0m\u001b[0;34m(\u001b[0m\u001b[0ma\u001b[0m\u001b[0;34m,\u001b[0m \u001b[0mb\u001b[0m\u001b[0;34m)\u001b[0m\u001b[0;34m\u001b[0m\u001b[0;34m\u001b[0m\u001b[0m\n\u001b[0m\u001b[1;32m     14\u001b[0m \u001b[0mc2\u001b[0m \u001b[0;34m=\u001b[0m \u001b[0mpow\u001b[0m\u001b[0;34m(\u001b[0m\u001b[0ma\u001b[0m\u001b[0;34m,\u001b[0m \u001b[0mb\u001b[0m\u001b[0;34m)\u001b[0m\u001b[0;34m\u001b[0m\u001b[0;34m\u001b[0m\u001b[0m\n\u001b[1;32m     15\u001b[0m \u001b[0;34m\u001b[0m\u001b[0m\n",
            "\u001b[0;32m<ipython-input-24-2e92a26a476a>\u001b[0m in \u001b[0;36mpow_rec\u001b[0;34m(value, power)\u001b[0m\n\u001b[1;32m      7\u001b[0m     \u001b[0ma\u001b[0m \u001b[0;34m+=\u001b[0m \u001b[0;36m1\u001b[0m\u001b[0;34m\u001b[0m\u001b[0;34m\u001b[0m\u001b[0m\n\u001b[1;32m      8\u001b[0m     \u001b[0mvalue\u001b[0m \u001b[0;34m=\u001b[0m \u001b[0mvalue\u001b[0m\u001b[0;34m**\u001b[0m\u001b[0ma\u001b[0m\u001b[0;34m\u001b[0m\u001b[0;34m\u001b[0m\u001b[0m\n\u001b[0;32m----> 9\u001b[0;31m     \u001b[0;32mreturn\u001b[0m \u001b[0mpow_rec\u001b[0m\u001b[0;34m(\u001b[0m\u001b[0mvalue\u001b[0m\u001b[0;34m,\u001b[0m\u001b[0mpower\u001b[0m\u001b[0;34m)\u001b[0m\u001b[0;34m\u001b[0m\u001b[0;34m\u001b[0m\u001b[0m\n\u001b[0m\u001b[1;32m     10\u001b[0m \u001b[0;34m\u001b[0m\u001b[0m\n\u001b[1;32m     11\u001b[0m \u001b[0ma\u001b[0m \u001b[0;34m=\u001b[0m \u001b[0mint\u001b[0m\u001b[0;34m(\u001b[0m\u001b[0minput\u001b[0m\u001b[0;34m(\u001b[0m\u001b[0;34m'a = '\u001b[0m\u001b[0;34m)\u001b[0m\u001b[0;34m)\u001b[0m\u001b[0;34m\u001b[0m\u001b[0;34m\u001b[0m\u001b[0m\n",
            "... last 1 frames repeated, from the frame below ...\n",
            "\u001b[0;32m<ipython-input-24-2e92a26a476a>\u001b[0m in \u001b[0;36mpow_rec\u001b[0;34m(value, power)\u001b[0m\n\u001b[1;32m      7\u001b[0m     \u001b[0ma\u001b[0m \u001b[0;34m+=\u001b[0m \u001b[0;36m1\u001b[0m\u001b[0;34m\u001b[0m\u001b[0;34m\u001b[0m\u001b[0m\n\u001b[1;32m      8\u001b[0m     \u001b[0mvalue\u001b[0m \u001b[0;34m=\u001b[0m \u001b[0mvalue\u001b[0m\u001b[0;34m**\u001b[0m\u001b[0ma\u001b[0m\u001b[0;34m\u001b[0m\u001b[0;34m\u001b[0m\u001b[0m\n\u001b[0;32m----> 9\u001b[0;31m     \u001b[0;32mreturn\u001b[0m \u001b[0mpow_rec\u001b[0m\u001b[0;34m(\u001b[0m\u001b[0mvalue\u001b[0m\u001b[0;34m,\u001b[0m\u001b[0mpower\u001b[0m\u001b[0;34m)\u001b[0m\u001b[0;34m\u001b[0m\u001b[0;34m\u001b[0m\u001b[0m\n\u001b[0m\u001b[1;32m     10\u001b[0m \u001b[0;34m\u001b[0m\u001b[0m\n\u001b[1;32m     11\u001b[0m \u001b[0ma\u001b[0m \u001b[0;34m=\u001b[0m \u001b[0mint\u001b[0m\u001b[0;34m(\u001b[0m\u001b[0minput\u001b[0m\u001b[0;34m(\u001b[0m\u001b[0;34m'a = '\u001b[0m\u001b[0;34m)\u001b[0m\u001b[0;34m)\u001b[0m\u001b[0;34m\u001b[0m\u001b[0;34m\u001b[0m\u001b[0m\n",
            "\u001b[0;31mRecursionError\u001b[0m: maximum recursion depth exceeded in comparison"
          ]
        }
      ]
    }
  ]
}