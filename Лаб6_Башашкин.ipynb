{
  "nbformat": 4,
  "nbformat_minor": 0,
  "metadata": {
    "colab": {
      "provenance": [],
      "authorship_tag": "ABX9TyN8iKYxbVpptBwL3Wu6ZAUM",
      "include_colab_link": true
    },
    "kernelspec": {
      "name": "python3",
      "display_name": "Python 3"
    },
    "language_info": {
      "name": "python"
    }
  },
  "cells": [
    {
      "cell_type": "markdown",
      "metadata": {
        "id": "view-in-github",
        "colab_type": "text"
      },
      "source": [
        "<a href=\"https://colab.research.google.com/github/Bashashkin/Lab-1/blob/main/%D0%9B%D0%B0%D0%B16_%D0%91%D0%B0%D1%88%D0%B0%D1%88%D0%BA%D0%B8%D0%BD.ipynb\" target=\"_parent\"><img src=\"https://colab.research.google.com/assets/colab-badge.svg\" alt=\"Open In Colab\"/></a>"
      ]
    },
    {
      "cell_type": "markdown",
      "source": [
        "# №6.2.1 - №6.2.7\n",
        "Для задач 6.2.1-6.2.7 ответьте на следующие вопросы:\n",
        "\n",
        "Что выполняет приведенная функция?\n",
        "\n",
        "Какова вычислительная сложность алгоритма (наихудшая оценка, O-нотацию)?"
      ],
      "metadata": {
        "id": "nY19mH1aI4Ss"
      }
    },
    {
      "cell_type": "code",
      "execution_count": null,
      "metadata": {
        "colab": {
          "base_uri": "https://localhost:8080/"
        },
        "id": "N2kpkNur9DWy",
        "outputId": "acba3861-5da8-4625-e4fd-1bd2a213e868"
      },
      "outputs": [
        {
          "output_type": "execute_result",
          "data": {
            "text/plain": [
              "[-2, -2, -2, 1, 1, 2, 2, 2, 2, 2, 3, 3, 3, 4, 4, 5, 65]"
            ]
          },
          "metadata": {},
          "execution_count": 1
        }
      ],
      "source": [
        "# Программирование на языке высокого уровня (Python).\n",
        "# https://www.yuripetrov.ru/edu/python\n",
        "# Задание task_06_02_01.\n",
        "#\n",
        "# Выполнил: Башашкин А.М.\n",
        "# Группа: АДЭУ-221\n",
        "# E-mail: alesha_2010@list.ru\n",
        "\n",
        "# 1 \n",
        "\n",
        "def foo(a):\n",
        "    \"\"\"\n",
        "    Функция сортирует список по возрастанию\n",
        "\n",
        "    Сложность: O(N^2), N = len(a)\n",
        "    \"\"\"\n",
        "    for i in range(len(a), 0, -1): # O(N) + O(1) = O(N)\n",
        "        for j in range(1, i): # O(N) + O(1) = O(N)\n",
        "            if a[j-1] > a[j]: # O(1) + O(N) = O(N) \n",
        "                a[j-1], a[j] = a[j], a[j-1] # O(1) + O(1) = 2*O(1) = O(1) \n",
        "    return a # O(1)\n",
        "# O(N) * (O(N) + O(N)) + O(1) + O(1) = O(N) * O(N) + 2*O(1) = O(N^2) + O(1) = O(N^2)\n",
        "a = [1, 2, 3, 4, 2, 1, 3, 4, 3, 5, -2, -2, 2, -2, 65, 2, 2]\n",
        "foo(a)\n"
      ]
    },
    {
      "cell_type": "code",
      "source": [
        "#2\n",
        "\n",
        "def foo(i):\n",
        "    \"\"\"\n",
        "    Функция преобразует целочисленный тип данных в строчный \n",
        "\n",
        "    Параметры:\n",
        "        - i (int): число.\n",
        "\n",
        "    Сложность: O(N)\n",
        "    \"\"\"\n",
        "    digits = \"0123456789\" # O(1)\n",
        "    if i == 0: # O(1)\n",
        "        return \"0\" # O(1)\n",
        "    result = \"\" # O(1)\n",
        "    while i > 0: # O(N)\n",
        "        result = digits[i%10] + result # O(1) + O(1) + O(1) = 3*O(1) = O(1)\n",
        "        i = i // 10 # O(1) + O(1) = 2*O(1) = O(1)\n",
        "    return result # O(1)\n",
        "# O(1) + O(1) * O(1) + O(1) + O(N) * O(1) * O(1) = O(N) + 6*O(1) = O(N)"
      ],
      "metadata": {
        "id": "NYU6FI7iEshJ"
      },
      "execution_count": null,
      "outputs": []
    },
    {
      "cell_type": "code",
      "source": [
        "i = int(input('i = '))\n",
        "a = foo(i)\n",
        "type(a)"
      ],
      "metadata": {
        "colab": {
          "base_uri": "https://localhost:8080/"
        },
        "id": "9MKzcPLsFzQA",
        "outputId": "d9590fc6-84a4-4b09-acd9-9c06202d5493"
      },
      "execution_count": null,
      "outputs": [
        {
          "name": "stdout",
          "output_type": "stream",
          "text": [
            "i = 3\n"
          ]
        },
        {
          "output_type": "execute_result",
          "data": {
            "text/plain": [
              "str"
            ]
          },
          "metadata": {},
          "execution_count": 9
        }
      ]
    },
    {
      "cell_type": "code",
      "source": [
        "#3\n",
        "\n",
        "def foo(s):\n",
        "    \"\"\"\n",
        "    Складывает сумму цифр значения из строки и преобразует его в целочисленный \n",
        "    тип данных\n",
        "\n",
        "    Параметры:\n",
        "        - s (str): строка.\n",
        "\n",
        "    Сложность: O(N^2), N=len(s)\n",
        "    \"\"\"\n",
        "    val = 0 # O(1)\n",
        "    for c in s: # O(N)\n",
        "        if c.isdigit(): # O(N) * O(1)\n",
        "            val += int(c) # O(1) + O(1) = O(1)\n",
        "    return val #O(1)\n",
        "# O(1) + O(N) * O(N) * O(1) = O(N^2)"
      ],
      "metadata": {
        "id": "gxj3LKFJJNzM"
      },
      "execution_count": null,
      "outputs": []
    },
    {
      "cell_type": "code",
      "source": [
        "s = str(input('ввод: '))\n",
        "print(foo(s))\n",
        "a = foo(s)\n",
        "type(a)"
      ],
      "metadata": {
        "colab": {
          "base_uri": "https://localhost:8080/"
        },
        "id": "RD_5s6tIJTQD",
        "outputId": "ba5827af-6f67-400e-b706-711a86ea2a82"
      },
      "execution_count": null,
      "outputs": [
        {
          "output_type": "stream",
          "name": "stdout",
          "text": [
            "ввод: привет\n",
            "0\n"
          ]
        },
        {
          "output_type": "execute_result",
          "data": {
            "text/plain": [
              "int"
            ]
          },
          "metadata": {},
          "execution_count": 15
        }
      ]
    },
    {
      "cell_type": "code",
      "source": [
        "#4\n",
        "\n",
        "def foo(n):\n",
        "    \"\"\"\n",
        "    Функция находит все простые числа от 0 до n\n",
        "\n",
        "    Параметры:\n",
        "        - n (int): число.\n",
        "\n",
        "    Сложность: O(N^2)\n",
        "    \"\"\"\n",
        "    res = [] # O(1)\n",
        "    for i in range(1, n + 1): # O(N)\n",
        "        divisors = 0 # O(1)\n",
        "        j = 2 # O(1)\n",
        "        while j < i and divisors == 0: # O(N) + O(1) + O(1) = O(N)\n",
        "            if i % j == 0: # (O(1) + O(1))*O(N) = 2*O(1)*O(M) = O(N)\n",
        "                divisors += 1 # O(1) + O(1) = 2*O(1) = O(1)\n",
        "            j += 1 # O(1) + O(1) = 2*O(1) = O(1)\n",
        "\n",
        "        if divisors == 0: # O(1)\n",
        "            res.append(i) # O(1)\n",
        "\n",
        "    return res # O(1)\n",
        "# O(1) + O(N) * (2*O(1) + O(N) * 2*O(1) * O(1)) = O(N^2)"
      ],
      "metadata": {
        "id": "xRbA7H8aNPvQ"
      },
      "execution_count": null,
      "outputs": []
    },
    {
      "cell_type": "code",
      "source": [
        "n = int(input('n = '))\n",
        "print(foo(n))"
      ],
      "metadata": {
        "colab": {
          "base_uri": "https://localhost:8080/"
        },
        "id": "Ttk37FgzNUa7",
        "outputId": "3c6ddf74-d083-443a-e175-04ece1b91c6f"
      },
      "execution_count": null,
      "outputs": [
        {
          "output_type": "stream",
          "name": "stdout",
          "text": [
            "n = 50\n",
            "[1, 2, 3, 5, 7, 11, 13, 17, 19, 23, 29, 31, 37, 41, 43, 47]\n"
          ]
        }
      ]
    },
    {
      "cell_type": "code",
      "source": [
        "# 5\n",
        "\n",
        "def foo(nums):\n",
        "    \"\"\"\n",
        "    Функция определяет, есть ли в списке чётные числа\n",
        "\n",
        "    Параметры:\n",
        "        - nums (list): список.\n",
        "\n",
        "    Сложность: O(N), N=len(nums)\n",
        "    \"\"\"\n",
        "    for x in nums: # O(N)\n",
        "        if x % 2 == 0: # O(1) +  O(1) = 2*O(1) = O(1)\n",
        "            return True # O(1)\n",
        "    else: \n",
        "        return False # O(1)\n",
        "# O(N) * O(1) * O(1) + O(1) = O(N) + O(1) = O(N)"
      ],
      "metadata": {
        "id": "eVXyYfYjStrE"
      },
      "execution_count": null,
      "outputs": []
    },
    {
      "cell_type": "code",
      "source": [
        "nums=[1, 2]\n",
        "print(foo(nums))"
      ],
      "metadata": {
        "colab": {
          "base_uri": "https://localhost:8080/"
        },
        "id": "777SzEt5Szak",
        "outputId": "460744c4-1bf3-4d70-81f5-c1882ebf0e4b"
      },
      "execution_count": null,
      "outputs": [
        {
          "output_type": "stream",
          "name": "stdout",
          "text": [
            "True\n"
          ]
        }
      ]
    },
    {
      "cell_type": "code",
      "source": [
        "# 6 \n",
        "\n",
        "def foo(nums):\n",
        "    \"\"\"\n",
        "    Функция складывает первый элемент списка с квадратным значением последнего\n",
        "    элемента\n",
        "\n",
        "    Параметры:\n",
        "        - nums (list): список.\n",
        "\n",
        "    Сложность: # O(1)\n",
        "    \"\"\"\n",
        "    return (nums[0] + nums[-1] ** 2) # O(1) + O(1) + O(1) + O(1) = 4*O(1) = O(1)\n",
        "\n"
      ],
      "metadata": {
        "id": "EuMjuhkFZ4rm"
      },
      "execution_count": null,
      "outputs": []
    },
    {
      "cell_type": "code",
      "source": [
        "nums=[1, 2, 3 ,4]\n",
        "print(foo(nums))\n"
      ],
      "metadata": {
        "colab": {
          "base_uri": "https://localhost:8080/"
        },
        "id": "OcEO3LuoaQPS",
        "outputId": "2f880551-2d8e-4801-a280-fa3e4bbface5"
      },
      "execution_count": null,
      "outputs": [
        {
          "output_type": "stream",
          "name": "stdout",
          "text": [
            "17\n"
          ]
        }
      ]
    },
    {
      "cell_type": "code",
      "source": [
        "#7\n",
        "\n",
        "def foo(low, high):\n",
        "    \"\"\"\n",
        "    Функция находит загаданное число по заданным границам\n",
        "\n",
        "    Параметры:\n",
        "        - low (int): нижняя граница;\n",
        "        - high (int): верхняя граница.\n",
        "\n",
        "    Сложность: # O(N)\n",
        "\n",
        "\n",
        "    \"\"\"\n",
        "    guessing = True # O(1)\n",
        "    while guessing: # O(N) Пока не будет угадано число\n",
        "        guess = (low + high) // 2 # O(1) Сокращение диапазона границ\n",
        "        print(\"Загаданное число {0}?\".format(guess)) # O(1)\n",
        "        pointer = input(\n",
        "            \"Введите '+', если Ваше число меньше.\\n\"\n",
        "            \"Введите '-' если Ваше число больше.\\n\"\n",
        "            \"Введите '=', если я угадал.\\n\").lower() # O(1)\n",
        "        if pointer == \"+\": # O(1) Если число меньше guess\n",
        "            high = guess # O(1) Верхней граница присваевается guess\n",
        "        elif pointer == \"-\": # O(1) Если число больше guess\n",
        "            low = guess # O(1) Нижней границе присваевается guess\n",
        "        elif pointer == \"=\": # O(1) Угадывание числа\n",
        "            guessing = False # O(1) Конец цикла\n",
        "        else: \n",
        "            print(\"Введите '+', '-' или '='.\") # O(1)\n",
        "\n",
        "    return guess # O(1)\n",
        "#O(1)+O(N)+O(1)+O(1)+O(1)+O(1)+O(1)+O(1)+O(1)+O(1)+O(1)+O(1)=O(N)+11*O(1)=O(N)\n",
        "\n",
        "# ЗАКОММЕНТИРУЙТЕ этот код перед запуском проверки\n",
        "low, high = 0, 100\n",
        "print(\"Пожалуйста, загадайте число от {0} до {1}!\".format(low, high))\n",
        "guess = foo(low, high)\n",
        "print(\"Игра окончена, Вы загадали число: {0}.\".format(guess))\n"
      ],
      "metadata": {
        "colab": {
          "base_uri": "https://localhost:8080/"
        },
        "id": "DbZ_oARkbEBj",
        "outputId": "a5cdb231-8a27-4dfb-d9f6-e71095929317"
      },
      "execution_count": null,
      "outputs": [
        {
          "output_type": "stream",
          "name": "stdout",
          "text": [
            "Пожалуйста, загадайте число от 0 до 100!\n",
            "Загаданное число 50?\n",
            "Введите '+', если Ваше число меньше.\n",
            "Введите '-' если Ваше число больше.\n",
            "Введите '=', если я угадал.\n",
            "+\n",
            "Загаданное число 25?\n",
            "Введите '+', если Ваше число меньше.\n",
            "Введите '-' если Ваше число больше.\n",
            "Введите '=', если я угадал.\n",
            "=\n",
            "Игра окончена, Вы загадали число: 25.\n"
          ]
        }
      ]
    },
    {
      "cell_type": "markdown",
      "source": [
        "# № 6.2.8\n",
        "\n",
        "Дан список случайных чисел. Определить значения минимального и максимального элементов списка."
      ],
      "metadata": {
        "id": "uejQVbxcIzDn"
      }
    },
    {
      "cell_type": "code",
      "source": [
        "\n",
        "import random\n",
        "import time\n",
        "\n",
        "def timeit(func, *args, **kw):\n",
        "    \"\"\"Выполнить функицю 'func' с параметрами '*args', '**kw' и\n",
        "    вернуть время выполнения в мс.\"\"\"\n",
        "\n",
        "    time_start = time.time()\n",
        "    res = func(*args, **kw)\n",
        "    time_end = time.time()\n",
        "\n",
        "    return (time_end - time_start) * 1000.0, res\n",
        "\n",
        "\n",
        "def maxmin1(data):\n",
        "    \"\"\"Вернуть минимум и максимум из 'data'.\n",
        "\n",
        "    Алгоритм:\n",
        "        Последовательный перебор всего массива.\n",
        "\n",
        "    Сложность: O(N)\n",
        "\n",
        "    Параметры:\n",
        "        - data (list of int): список целых чисел.\n",
        "\n",
        "    Результат:\n",
        "        tuple: мин. и макс. значения.\"\"\"\n",
        "    max = min = data[0] # O(1)\n",
        "    for i in data: # O(N)\n",
        "        if i>max: # O(1)\n",
        "            max = i # O(1)\n",
        "    for x in data: # O(N)\n",
        "      if x<min: # O(1)\n",
        "        min=x # O(1)\n",
        "    minmax = (min, max) # O(1)\n",
        "    return minmax # O(1)\n",
        "#O(1)+O(N)*(O(1)+O(1))+O(N)*(O(1)+O(1))+O(1)+O(1)=O(1)+O(N)+O(N)=2*O(N)=O(N)\n",
        "def maxmin2(data):N\n",
        "    \"\"\"Вернуть минимум и максимум из 'data'.\n",
        "\n",
        "    Алгоритм:\n",
        "        Сортировка списка, и возврат первого и последнего элементов.\n",
        "\n",
        "    Сложность: # O(N*logN)\n",
        "\n",
        "    Параметры:\n",
        "        - data (list of int): список целых чисел.\n",
        "\n",
        "    Результат:\n",
        "        tuple: мин. и макс. значения.\"\"\"\n",
        "    data.sort() # O(N*logN)\n",
        "    min = data[0] # O(1)\n",
        "    max = data[-1] # O(1)\n",
        "    minmax = (min, max) # O(1)\n",
        "    return minmax # O(1)\n",
        "# O(N LogN) + 3*O(1) = O(N LogN)\n",
        "\n",
        "\n",
        "def maxmin3(data):\n",
        "    \"\"\"Вернуть минимум и максимум из 'data'.\n",
        "\n",
        "    Алгоритм:\n",
        "        Используя встроенные функции min() и max().\n",
        "\n",
        "    Сложность: # O(N)\n",
        "\n",
        "    Параметры:\n",
        "        - data (list of int): список целых чисел.\n",
        "\n",
        "    Результат:\n",
        "        tuple: мин. и макс. значения.\"\"\"\n",
        "    minmax = (min(data),max(data)) # O(N)\n",
        "    return minmax # O(1)\n",
        "# O(N) + O(N) + O(1) = 2*O(N) + O(1) = O(N)\n",
        "\n",
        "\n",
        "if __name__ == \"__main__\":\n",
        "    GEN_LIMIT = 1000000\n",
        "    dataset = []\n",
        "    for i in range(4, 7):\n",
        "        dataset.append(random.sample(range(-GEN_LIMIT, GEN_LIMIT), 10**i))\n",
        "\n",
        "    res = [[\"i\", \"1 способ (мс.)\", \"2 способ (мс.)\", \"3 способ (мс.)\"]]\n",
        "    for data in dataset:\n",
        "        res.append([len(data),\n",
        "                   timeit(maxmin1, data)[0],\n",
        "                   timeit(maxmin2, data)[0],\n",
        "                   timeit(maxmin3, data)[0]])\n",
        "\n",
        "    # Вывод\n",
        "    print(\"{:>15} {:>15} {:>15} {:>15}\".format(*res[0]))\n",
        "    for r in res[1:]:\n",
        "        print(\"{:>15} {:>15.2f} {:>15.2f} {:>15.2f}\".format(*r))\n",
        "\n",
        "# -------------\n",
        "# Пример вывода:\n",
        "#\n",
        "#              i  1 способ (мс.)  2 способ (мс.)  3 способ (мс.)\n",
        "#          10000            1.00            5.00            0.00\n",
        "#            ...\n"
      ],
      "metadata": {
        "colab": {
          "base_uri": "https://localhost:8080/"
        },
        "id": "gXEhmqm-Iyle",
        "outputId": "443a9584-22b4-43ff-e9cb-c4cfabd48a8d"
      },
      "execution_count": null,
      "outputs": [
        {
          "output_type": "stream",
          "name": "stdout",
          "text": [
            "              i  1 способ (мс.)  2 способ (мс.)  3 способ (мс.)\n",
            "          10000            1.06            1.86            0.39\n",
            "         100000           12.94           38.51           10.76\n",
            "        1000000          294.29          573.04           51.47\n"
          ]
        }
      ]
    }
  ]
}