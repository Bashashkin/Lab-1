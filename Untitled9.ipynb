{
  "nbformat": 4,
  "nbformat_minor": 0,
  "metadata": {
    "colab": {
      "provenance": [],
      "authorship_tag": "ABX9TyMZqL0iJsocEtEMfCrkC5BU",
      "include_colab_link": true
    },
    "kernelspec": {
      "name": "python3",
      "display_name": "Python 3"
    },
    "language_info": {
      "name": "python"
    }
  },
  "cells": [
    {
      "cell_type": "markdown",
      "metadata": {
        "id": "view-in-github",
        "colab_type": "text"
      },
      "source": [
        "<a href=\"https://colab.research.google.com/github/Bashashkin/Lab-1/blob/main/Untitled9.ipynb\" target=\"_parent\"><img src=\"https://colab.research.google.com/assets/colab-badge.svg\" alt=\"Open In Colab\"/></a>"
      ]
    },
    {
      "cell_type": "markdown",
      "source": [
        "# Списки"
      ],
      "metadata": {
        "id": "_xp0EvBW7fXR"
      }
    },
    {
      "cell_type": "code",
      "execution_count": null,
      "metadata": {
        "colab": {
          "base_uri": "https://localhost:8080/"
        },
        "id": "FtY3gTot6bwh",
        "outputId": "105bda43-171e-44e0-d3d6-524bb4609cf3"
      },
      "outputs": [
        {
          "output_type": "stream",
          "name": "stdout",
          "text": [
            "True\n"
          ]
        }
      ],
      "source": [
        "a=[5,3,8]\n",
        "b=a*2\n",
        "c=a+[42,56]\n",
        "print(8 in a)"
      ]
    },
    {
      "cell_type": "markdown",
      "source": [
        "# Срезы"
      ],
      "metadata": {
        "id": "sS2X1FhL6-xK"
      }
    },
    {
      "cell_type": "code",
      "source": [
        "a = [7, 9, 6, 6, 9, 1, 5]\n",
        "\n",
        "#список[начало : конец : шаг]\n",
        "\n",
        "print(a[3:6])\n",
        "print(a[1:2])\n",
        "print(a[1:6:2])\n",
        "print(a[5:])\n",
        "print(a[:4])\n",
        "print(a[:])"
      ],
      "metadata": {
        "colab": {
          "base_uri": "https://localhost:8080/"
        },
        "id": "zY5mUm7T7BDG",
        "outputId": "7a7c1e54-dfee-4db2-d61f-b183c00839af"
      },
      "execution_count": null,
      "outputs": [
        {
          "output_type": "stream",
          "name": "stdout",
          "text": [
            "[6, 9, 1]\n",
            "[9]\n",
            "[9, 6, 1]\n",
            "[1, 5]\n",
            "[7, 9, 6, 6]\n",
            "[7, 9, 6, 6, 9, 1, 5]\n"
          ]
        }
      ]
    },
    {
      "cell_type": "markdown",
      "source": [
        "# Манипуляции со срезами"
      ],
      "metadata": {
        "id": "0ot-QBZ17_Ew"
      }
    },
    {
      "cell_type": "code",
      "source": [
        "a[0:2] = [1,12] # Замена нескольких эл-тов\n",
        "a[0:2] = [] # Удаление нескольких эл-отв\n",
        "a[1:1] =('asd', 'qwrt') # Вставка нескольких эл-тов\n",
        "a[:0] = a # Копия самого себя в начало списка\n",
        "a[:] = [] # Удаление всеъ эл-тов\n",
        "b = a # Создание ссылки на список\n",
        "b = a[:] # Создание копии списка"
      ],
      "metadata": {
        "id": "gNhh6l6N7lOl"
      },
      "execution_count": null,
      "outputs": []
    },
    {
      "cell_type": "markdown",
      "source": [
        "# Функции списков"
      ],
      "metadata": {
        "id": "ct3Fe5LR82s0"
      }
    },
    {
      "cell_type": "code",
      "source": [
        "a = [1,2,3,4,5,6,7,8,9]\n",
        "len(a) # Кол-во эл-тов списка\n",
        "\n",
        "min(a) # Наименьшее значение списка\n",
        "max(a) # Наибольшее значение списка\n",
        "\n",
        "del a[i] # Удаление эл-та из списка\n",
        "a.append(b) # Добвление в конец списка\n",
        "a.insert(i,x) # Вставка эл-та x в позицию i\n",
        "a.reverse() # Переворот списка\n",
        "a.count(x) # Кол-во эл-тов, равных x\n",
        "\n",
        "# Итерация по списку\n",
        "\n",
        "for i in range(len(a)):\n",
        "  print(a[i])\n",
        "for item in a:\n",
        "  print(item)\n"
      ],
      "metadata": {
        "id": "TkbsDtKW9RPX"
      },
      "execution_count": null,
      "outputs": []
    },
    {
      "cell_type": "code",
      "source": [
        "# Итерация по списку\n",
        "\n",
        "for i in range(len(a)):\n",
        "  print(a[i])\n",
        "for item in a:\n",
        "  print(item)"
      ],
      "metadata": {
        "id": "HtausIwG-__k"
      },
      "execution_count": null,
      "outputs": []
    },
    {
      "cell_type": "markdown",
      "source": [
        "# Cписковая сборка"
      ],
      "metadata": {
        "id": "RYgAVe6y_wbr"
      }
    },
    {
      "cell_type": "code",
      "source": [
        "# a = [выражение for переменная in значения if условие]\n",
        "\n",
        "a = [i*5 for i in 4, 13, 26, 2, 8]\n",
        "print(a)\n",
        "b = [i*5 for i in 4, 13, 26, 2, 8 if i < 10]\n",
        "print(b)"
      ],
      "metadata": {
        "id": "yZCqtT_g_8wp"
      },
      "execution_count": null,
      "outputs": []
    },
    {
      "cell_type": "markdown",
      "source": [
        "# Генерация списков"
      ],
      "metadata": {
        "id": "wHjew2HbAy2E"
      }
    },
    {
      "cell_type": "code",
      "source": [
        "from random import randint\n",
        "a = []\n",
        "for i in range(10):\n",
        "  a.append(randint(10,99))\n",
        "  \n",
        "# randint(3,5) - случайное число в диапазоне от 3 до 5"
      ],
      "metadata": {
        "id": "oAwgNwhiA1ac"
      },
      "execution_count": null,
      "outputs": []
    },
    {
      "cell_type": "markdown",
      "source": [
        "# Функции \n",
        "Это именнованный фрагмент кода, к которому можно обратиться из другой части программы "
      ],
      "metadata": {
        "id": "oiJsvxNCCkgm"
      }
    },
    {
      "cell_type": "code",
      "source": [
        "#Синтаксис: \n",
        "#def имя_функции(параметры):\n",
        "  #тело_функции\n",
        "\n",
        "# Пример\n",
        "def hello(n):\n",
        "  print(\"Hello, I am a function\")\n",
        "  print(n)\n",
        "\n",
        "# Вызов функции \n",
        "def main():\n",
        "  print(\"Сейчас вызовем функцию\")\n",
        "hello(5)"
      ],
      "metadata": {
        "colab": {
          "base_uri": "https://localhost:8080/"
        },
        "id": "ViGg5yZlCp54",
        "outputId": "08dce2dd-94ed-4e88-8c91-7054739aa224"
      },
      "execution_count": null,
      "outputs": [
        {
          "output_type": "stream",
          "name": "stdout",
          "text": [
            "Hello, I am a function\n",
            "5\n"
          ]
        }
      ]
    },
    {
      "cell_type": "markdown",
      "source": [
        "# Возврат значения \n"
      ],
      "metadata": {
        "id": "TuknQYAeFPHK"
      }
    },
    {
      "cell_type": "code",
      "source": [
        " # Оператор return\n",
        " \n",
        "def test():\n",
        "  print(\"Returning a value\")\n",
        "  return 667"
      ],
      "metadata": {
        "id": "AEMuAT2BFXa4"
      },
      "execution_count": null,
      "outputs": []
    },
    {
      "cell_type": "code",
      "source": [
        "# Вызывать так:\n",
        "\n",
        "a = test()"
      ],
      "metadata": {
        "colab": {
          "base_uri": "https://localhost:8080/"
        },
        "id": "KS1RGosnFkKs",
        "outputId": "56de4517-1800-42a8-f437-82bb741c8981"
      },
      "execution_count": null,
      "outputs": [
        {
          "output_type": "stream",
          "name": "stdout",
          "text": [
            "Returning a value\n"
          ]
        }
      ]
    },
    {
      "cell_type": "code",
      "source": [
        "def multi_ret():\n",
        "  print(\"This curious function\")\n",
        "  print(\"returns three values\")\n",
        "  return 1, 'test', [796, 69, 15]\n",
        "a, b, c = multi_ret()\n",
        "print(a, b, c)"
      ],
      "metadata": {
        "colab": {
          "base_uri": "https://localhost:8080/"
        },
        "id": "-DlAPpKVF1tH",
        "outputId": "6ffbc8c0-98da-44b3-fe51-a2e19483c725"
      },
      "execution_count": null,
      "outputs": [
        {
          "output_type": "stream",
          "name": "stdout",
          "text": [
            "This curious function\n",
            "returns three values\n",
            "1 test [796, 69, 15]\n"
          ]
        }
      ]
    },
    {
      "cell_type": "markdown",
      "source": [
        "# Параметры "
      ],
      "metadata": {
        "id": "64lxuBNmHSlC"
      }
    },
    {
      "cell_type": "code",
      "source": [
        "# 3 параметра \n",
        "def f1(a, b, c):\n",
        "  pass # Заглушка, ничего не делает "
      ],
      "metadata": {
        "id": "m-dOiaUfHiSy"
      },
      "execution_count": null,
      "outputs": []
    },
    {
      "cell_type": "code",
      "source": [
        "# 2 параметра и значения по умолчанию\n",
        "def f2(value=5, key='test'):\n",
        "  pass\n",
        "f2() # value = 5, key = 'test'\n",
        "f2(3, 'asd') # value = 3, key = 'asd'\n",
        "f2(key='hello', value=42) # Указываем параметры по имени"
      ],
      "metadata": {
        "id": "2FPi2VgRH1J8"
      },
      "execution_count": null,
      "outputs": []
    },
    {
      "cell_type": "markdown",
      "source": [
        "# Когда параметров много"
      ],
      "metadata": {
        "id": "vagamnZdI99S"
      }
    },
    {
      "cell_type": "code",
      "source": [
        "# Произвольное кол-во параметров \n",
        "def f1(*args):\n",
        "  for item in args:\n",
        "    print(item)\n",
        "f1('hello', 'world', 42, True)"
      ],
      "metadata": {
        "colab": {
          "base_uri": "https://localhost:8080/"
        },
        "id": "n7PZTVH9JDBG",
        "outputId": "3e1c894e-2e25-4851-f04c-96dfbe8585c0"
      },
      "execution_count": null,
      "outputs": [
        {
          "output_type": "stream",
          "name": "stdout",
          "text": [
            "hello\n",
            "world\n",
            "42\n",
            "True\n"
          ]
        }
      ]
    },
    {
      "cell_type": "code",
      "source": [
        "# Произвольное кол-во именнованных параметров \n",
        "def f2(**kwargs):\n",
        "  for key, value in kwargs.items():\n",
        "    print(\"{} is {}\".format(key, value))\n",
        "f2(asdf='hello', qwerty=42)"
      ],
      "metadata": {
        "colab": {
          "base_uri": "https://localhost:8080/"
        },
        "id": "op8NIs-FJYMF",
        "outputId": "79b72b94-fe29-4158-b66e-438e067eb2a2"
      },
      "execution_count": null,
      "outputs": [
        {
          "output_type": "stream",
          "name": "stdout",
          "text": [
            "asdf is hello\n",
            "qwerty is 42\n"
          ]
        }
      ]
    },
    {
      "cell_type": "markdown",
      "source": [],
      "metadata": {
        "id": "-uA0TU01KaWU"
      }
    }
  ]
}