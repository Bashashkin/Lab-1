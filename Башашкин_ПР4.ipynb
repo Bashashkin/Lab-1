{
  "nbformat": 4,
  "nbformat_minor": 0,
  "metadata": {
    "colab": {
      "provenance": [],
      "authorship_tag": "ABX9TyP0MPibXy7gRW624lsBfJKg",
      "include_colab_link": true
    },
    "kernelspec": {
      "name": "python3",
      "display_name": "Python 3"
    },
    "language_info": {
      "name": "python"
    }
  },
  "cells": [
    {
      "cell_type": "markdown",
      "metadata": {
        "id": "view-in-github",
        "colab_type": "text"
      },
      "source": [
        "<a href=\"https://colab.research.google.com/github/Bashashkin/Lab-1/blob/main/%D0%91%D0%B0%D1%88%D0%B0%D1%88%D0%BA%D0%B8%D0%BD_%D0%9F%D0%A04.ipynb\" target=\"_parent\"><img src=\"https://colab.research.google.com/assets/colab-badge.svg\" alt=\"Open In Colab\"/></a>"
      ]
    },
    {
      "cell_type": "markdown",
      "source": [
        "Задача 1"
      ],
      "metadata": {
        "id": "4sxCs3okHceA"
      }
    },
    {
      "cell_type": "code",
      "execution_count": null,
      "metadata": {
        "colab": {
          "base_uri": "https://localhost:8080/"
        },
        "id": "IWqrUex0HVqC",
        "outputId": "6e019343-9c01-4c7c-a6ed-509d25d73098"
      },
      "outputs": [
        {
          "output_type": "stream",
          "name": "stdout",
          "text": [
            "Время работы: 0.0001628398895263672 секунд\n",
            "Используемая память: 192 Байт\n"
          ]
        }
      ],
      "source": [
        "import time\n",
        "import sys\n",
        "start = time.time()\n",
        "def recursive_sum(*args):\n",
        "  if not args:\n",
        "    return 0\n",
        "  else:\n",
        "    return args[0] + recursive_sum(*args[1:])\n",
        "end = time.time() - start\n",
        "memory_usage = sys.getsizeof(start)+sys.getsizeof(recursive_sum)+sys.getsizeof(end)\n",
        "\n",
        "if __name__ == \"__main__\":\n",
        "  print(\"Время работы:\", end, \"секунд\")\n",
        "  print(\"Используемая память:\", memory_usage , \"Байт\")"
      ]
    },
    {
      "cell_type": "markdown",
      "source": [
        "Задача 2"
      ],
      "metadata": {
        "id": "yPyCaODnIKUE"
      }
    },
    {
      "cell_type": "code",
      "source": [
        "start = time.time()\n",
        "def answer(func):\n",
        "    def wrapper(*args, **kwargs):\n",
        "        result = func(*args, **kwargs)\n",
        "        return f\"Результат функции: {result}\"\n",
        "    return wrapper\n",
        "\n",
        "\n",
        "@answer\n",
        "def a_plus_b(a, b):\n",
        "    return a + b\n",
        "\n",
        "print(a_plus_b(3, 5))\n",
        "print(a_plus_b(7, 9))\n",
        "\n",
        "@answer\n",
        "def get_letters(text: str) -> str:\n",
        "  return ''.join(sorted(set(filter(str.isalpha, text.lower()))))\n",
        "print(get_letters('Hello, world!'))\n",
        "print(get_letters('Декораторы это круто =)'))\n",
        "\n",
        "end = time.time() - start\n",
        "\n",
        "memory_usage = sys.getsizeof(a_plus_b)+sys.getsizeof(get_letters) +sys.getsizeof(start)+sys.getsizeof(end)+sys.getsizeof(answer)\n",
        "\n",
        "if __name__ == \"__main__\":\n",
        "  print(\"Время работы:\", end, \"секунд\")\n",
        "  print(\"Используемая память:\", memory_usage , \"Байт\")"
      ],
      "metadata": {
        "id": "sh_FPSIKIL1q",
        "colab": {
          "base_uri": "https://localhost:8080/"
        },
        "outputId": "14fd1d58-f679-4ffc-bc94-cf2abefc2d0b"
      },
      "execution_count": null,
      "outputs": [
        {
          "output_type": "stream",
          "name": "stdout",
          "text": [
            "Результат функции: 8\n",
            "Результат функции: 16\n",
            "Результат функции: dehlorw\n",
            "Результат функции: адекортуыэ\n",
            "Время работы: 0.004628896713256836 секунд\n",
            "Используемая память: 480 Байт\n"
          ]
        }
      ]
    },
    {
      "cell_type": "markdown",
      "source": [
        "Задача 3"
      ],
      "metadata": {
        "id": "n8852mKKLTfm"
      }
    },
    {
      "cell_type": "code",
      "source": [
        "start = time.time()\n",
        "def text_decor(func):       \n",
        "    def wrapper(*args, **kwargs):\n",
        "        print('Hello')         \n",
        "        func(*args, **kwargs)   \n",
        "        print('Goodbye!')       \n",
        "    return wrapper\n",
        "\n",
        "@text_decor\n",
        "def simple_func():\n",
        "  print('I just simple python func')\n",
        "\n",
        "@text_decor\n",
        "def multiply(num1, num2):\n",
        "  print(num1 * num2)\n",
        "\n",
        "end = time.time() - start\n",
        "memory_usage = sys.getsizeof(start)+sys.getsizeof(text_decor)+sys.getsizeof(simple_func)\n",
        "\n",
        "if __name__ == \"__main__\":\n",
        "  print(\"Время работы:\", end, \"секунд\")\n",
        "  print(\"Используемая память:\", memory_usage , \"Байт\")"
      ],
      "metadata": {
        "colab": {
          "base_uri": "https://localhost:8080/"
        },
        "id": "YtJo4KF0OBcq",
        "outputId": "106766c1-9649-4003-8fcd-42eeaee2dd4a"
      },
      "execution_count": null,
      "outputs": [
        {
          "output_type": "stream",
          "name": "stdout",
          "text": [
            "Время работы: 0.0003437995910644531 секунд\n",
            "Используемая память: 312 Байт\n"
          ]
        }
      ]
    },
    {
      "cell_type": "markdown",
      "source": [
        "Задача 4"
      ],
      "metadata": {
        "id": "-pgjdipsOuFM"
      }
    },
    {
      "cell_type": "code",
      "source": [
        "start = time.time()\n",
        "\n",
        "def repeater(func):\n",
        "    def wrapper(*args, **kwargs):\n",
        "        func(*args, **kwargs) \n",
        "        func(*args, **kwargs)   \n",
        "    return wrapper\n",
        "\n",
        "@repeater\n",
        "def multiply(num1, num2):\n",
        "  print(num1 * num2)\n",
        "\n",
        "end = time.time() - start\n",
        "memory_usage = sys.getsizeof(start)+sys.getsizeof(repeater)+sys.getsizeof(multiply)\n",
        "\n",
        "if __name__ == \"__main__\":\n",
        "  print(\"Время работы:\", end, \"секунд\")\n",
        "  print(\"Используемая память:\", memory_usage , \"Байт\")"
      ],
      "metadata": {
        "colab": {
          "base_uri": "https://localhost:8080/"
        },
        "id": "A8KoIhPuPBPR",
        "outputId": "eab225bb-b849-4b14-b997-e3d7ccce97fa"
      },
      "execution_count": null,
      "outputs": [
        {
          "output_type": "stream",
          "name": "stdout",
          "text": [
            "Время работы: 0.00020384788513183594 секунд\n",
            "Используемая память: 312 Байт\n"
          ]
        }
      ]
    },
    {
      "cell_type": "markdown",
      "source": [
        "Задача 5"
      ],
      "metadata": {
        "id": "s8dPMLpHPhRk"
      }
    },
    {
      "cell_type": "code",
      "source": [
        "start = time.time()\n",
        "def double_it(func):\n",
        "    def inner(*args, **kwargs):\n",
        "        return func(*args, **kwargs) * 2\n",
        "    return inner\n",
        "\n",
        "@double_it\n",
        "def multiply(num1, num2):\n",
        "  return num1 * num2\n",
        "\n",
        "@double_it\n",
        "def get_sum(*args):\n",
        "  return sum(args)\n",
        "\n",
        "end = time.time() - start\n",
        "\n",
        "if __name__ == \"__main__\":\n",
        "  print(\"Время работы:\", end, \"секунд\")\n",
        "  print(\"Используемая память:\", memory_usage , \"Байт\")"
      ],
      "metadata": {
        "colab": {
          "base_uri": "https://localhost:8080/"
        },
        "id": "dznDpJSBPij0",
        "outputId": "846862f9-2306-460a-d1fc-6b3ab94d38d4"
      },
      "execution_count": null,
      "outputs": [
        {
          "output_type": "stream",
          "name": "stdout",
          "text": [
            "Время работы: 0.00030422210693359375 секунд\n",
            "Используемая память: 288 Байт\n"
          ]
        }
      ]
    },
    {
      "cell_type": "markdown",
      "source": [
        "Задача 6"
      ],
      "metadata": {
        "id": "lUVxALUCQw9d"
      }
    },
    {
      "cell_type": "code",
      "source": [
        "start = time.time()\n",
        "\n",
        "def add_args(func):\n",
        "  def wrapper(*args, **kwargs):\n",
        "    args = ('begin',) + args + ('end',)\n",
        "    return args\n",
        "  wrapper.__name__ = func.__name__\n",
        "  wrapper.__doc__ = func.__doc__\n",
        "  return wrapper\n",
        "\n",
        "@add_args\n",
        "def my_func(list1):\n",
        "  \"\"\"Сейчас к этой функции добавятся по элементу в начало и конец\"\"\"\n",
        "  list1 = []\n",
        "  return list1\n",
        "\n",
        "print(my_func.__doc__)\n",
        "print(my_func('hello','my','name','is','Álexey'))\n",
        "\n",
        "end = time.time() - start\n",
        "memory_usage = sys.getsizeof(add_args)+sys.getsizeof(my_func)\n",
        "\n",
        "if __name__ == \"__main__\":\n",
        "  print(\"Время работы:\", end, \"секунд\")\n",
        "  print(\"Используемая память:\", memory_usage , \"Байт\")\n",
        "  print('Название функции', my_func.__name__)\n"
      ],
      "metadata": {
        "colab": {
          "base_uri": "https://localhost:8080/"
        },
        "id": "SWHBaDf_Qyqx",
        "outputId": "14a41c40-c00e-4a31-c45d-a0284a9f9bc8"
      },
      "execution_count": null,
      "outputs": [
        {
          "output_type": "stream",
          "name": "stdout",
          "text": [
            "Сейчас к этой функции добавятся по элементу в начало и конец\n",
            "('begin', 'hello', 'my', 'name', 'is', 'Álexey', 'end')\n",
            "Время работы: 0.0005171298980712891 секунд\n",
            "Используемая память: 288 Байт\n",
            "Название функции my_func\n"
          ]
        }
      ]
    },
    {
      "cell_type": "markdown",
      "source": [
        "Задача 7 "
      ],
      "metadata": {
        "id": "ZjXf4oFNdHB1"
      }
    },
    {
      "cell_type": "code",
      "source": [
        "start = time.time()\n",
        "\n",
        "def validate_args(func):\n",
        "  def wrapper(*args, **kwargs):\n",
        "    if len(args) < 2:\n",
        "      print('Not enough arguements')\n",
        "    elif len(args) > 2:\n",
        "      print('Too many arguements')\n",
        "    else:\n",
        "      if type(args[0] and args[1]) == int:\n",
        "        return func(*args, **kwargs)\n",
        "      else:\n",
        "        print('Wrong types')\n",
        "  wrapper.__name__ = func.__name__\n",
        "  wrapper.__doc__ = func.__doc__\n",
        "  return wrapper\n",
        "\n",
        "@validate_args\n",
        "def my_func(a, b):\n",
        "    \"\"\"Проверка данных\"\"\"\n",
        "    return a + b\n",
        "\n",
        "end = time.time() - start\n",
        "\n",
        "print(my_func(1, 2))\n",
        "print(my_func(1, '2'))\n",
        "print(my_func(1, 2, 3))\n",
        "\n",
        "memory_usage = sys.getsizeof(start)+sys.getsizeof(validate_args)+sys.getsizeof(my_func())\n",
        "\n",
        "if __name__ == \"__main__\":\n",
        "  print(\"Время работы:\", end, \"секунд\")\n",
        "  print(\"Используемая память:\", memory_usage , \"Байт\")\n",
        "  print(\"Название функции:\",my_func.__name__)\n",
        "  print(my_func.__doc__)"
      ],
      "metadata": {
        "colab": {
          "base_uri": "https://localhost:8080/"
        },
        "id": "VxoK5EdNdIPc",
        "outputId": "35acdfc3-02ec-43ea-cb42-ce528003f27b"
      },
      "execution_count": null,
      "outputs": [
        {
          "output_type": "stream",
          "name": "stdout",
          "text": [
            "3\n",
            "Wrong types\n",
            "None\n",
            "Too many arguements\n",
            "None\n",
            "Not enough arguements\n",
            "Время работы: 0.0004398822784423828 секунд\n",
            "Используемая память: 184 Байт\n",
            "Название функции: my_func\n",
            "Проверка данных\n"
          ]
        }
      ]
    }
  ]
}